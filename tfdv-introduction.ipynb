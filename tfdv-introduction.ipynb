{
 "cells": [
  {
   "cell_type": "markdown",
   "id": "signed-apache",
   "metadata": {},
   "source": [
    "# Introduction to TensorFlow Data Validation (TFDV)\n",
    "\n",
    "This notebook demonstrates how to use TensorFlow Data Validation (TFDV) to analyze and validate structured data. In addition of testing code, a CI/CD ML pipeline must also unit test data and look for anomlies, compare training and evaluation datasets and make sure they are consistent. TFDV is a tool that can help generating descripting statistics, inferring schema and detecting drift and skew.\n",
    "\n",
    "This lab shows you how to use TFDV during the data exploratory phase of your model deployment. The goal is to:\n",
    "\n",
    "- Extract data from BigQuery.\n",
    "- Compute the summary statistics.\n",
    "- Explore the computed statistics visually to understand information about the data.\n",
    "- Infer an initial schema.\n",
    "- Validate and Update the schema based on a new dataset from BigQuery.\n",
    "- Save the updated schema to be used as a contract during inference."
   ]
  },
  {
   "cell_type": "markdown",
   "id": "right-front",
   "metadata": {},
   "source": [
    "### Installing dependencies"
   ]
  },
  {
   "cell_type": "code",
   "execution_count": 41,
   "id": "tough-keyboard",
   "metadata": {},
   "outputs": [
    {
     "name": "stdout",
     "output_type": "stream",
     "text": [
      "Requirement already satisfied: tensorflow in /Users/matthieu/dev/freeldom/mlops-framework/venv/lib/python3.8/site-packages (2.4.1)\n",
      "Requirement already satisfied: tensorflow_data_validation in /Users/matthieu/dev/freeldom/mlops-framework/venv/lib/python3.8/site-packages (0.30.0)\n",
      "Requirement already satisfied: google-cloud-bigquery in /Users/matthieu/dev/freeldom/mlops-framework/venv/lib/python3.8/site-packages (1.28.0)\n",
      "Requirement already satisfied: six<2.0.0dev,>=1.13.0 in /Users/matthieu/dev/freeldom/mlops-framework/venv/lib/python3.8/site-packages (from google-cloud-bigquery) (1.15.0)\n",
      "Requirement already satisfied: google-cloud-core<2.0dev,>=1.4.1 in /Users/matthieu/dev/freeldom/mlops-framework/venv/lib/python3.8/site-packages (from google-cloud-bigquery) (1.5.0)\n",
      "Requirement already satisfied: google-api-core<2.0dev,>=1.21.0 in /Users/matthieu/dev/freeldom/mlops-framework/venv/lib/python3.8/site-packages (from google-cloud-bigquery) (1.25.0)\n",
      "Requirement already satisfied: google-resumable-media<2.0dev,>=0.6.0 in /Users/matthieu/dev/freeldom/mlops-framework/venv/lib/python3.8/site-packages (from google-cloud-bigquery) (1.2.0)\n",
      "Requirement already satisfied: pytz in /Users/matthieu/dev/freeldom/mlops-framework/venv/lib/python3.8/site-packages (from google-api-core<2.0dev,>=1.21.0->google-cloud-bigquery) (2020.5)\n",
      "Requirement already satisfied: googleapis-common-protos<2.0dev,>=1.6.0 in /Users/matthieu/dev/freeldom/mlops-framework/venv/lib/python3.8/site-packages (from google-api-core<2.0dev,>=1.21.0->google-cloud-bigquery) (1.52.0)\n",
      "Requirement already satisfied: google-auth<2.0dev,>=1.21.1 in /Users/matthieu/dev/freeldom/mlops-framework/venv/lib/python3.8/site-packages (from google-api-core<2.0dev,>=1.21.0->google-cloud-bigquery) (1.24.0)\n",
      "Requirement already satisfied: requests<3.0.0dev,>=2.18.0 in /Users/matthieu/dev/freeldom/mlops-framework/venv/lib/python3.8/site-packages (from google-api-core<2.0dev,>=1.21.0->google-cloud-bigquery) (2.25.1)\n",
      "Requirement already satisfied: setuptools>=40.3.0 in /Users/matthieu/dev/freeldom/mlops-framework/venv/lib/python3.8/site-packages (from google-api-core<2.0dev,>=1.21.0->google-cloud-bigquery) (51.0.0)\n",
      "Requirement already satisfied: protobuf>=3.12.0 in /Users/matthieu/dev/freeldom/mlops-framework/venv/lib/python3.8/site-packages (from google-api-core<2.0dev,>=1.21.0->google-cloud-bigquery) (3.14.0)\n",
      "Requirement already satisfied: rsa<5,>=3.1.4 in /Users/matthieu/dev/freeldom/mlops-framework/venv/lib/python3.8/site-packages (from google-auth<2.0dev,>=1.21.1->google-api-core<2.0dev,>=1.21.0->google-cloud-bigquery) (4.7)\n",
      "Requirement already satisfied: pyasn1-modules>=0.2.1 in /Users/matthieu/dev/freeldom/mlops-framework/venv/lib/python3.8/site-packages (from google-auth<2.0dev,>=1.21.1->google-api-core<2.0dev,>=1.21.0->google-cloud-bigquery) (0.2.8)\n",
      "Requirement already satisfied: cachetools<5.0,>=2.0.0 in /Users/matthieu/dev/freeldom/mlops-framework/venv/lib/python3.8/site-packages (from google-auth<2.0dev,>=1.21.1->google-api-core<2.0dev,>=1.21.0->google-cloud-bigquery) (4.2.0)\n",
      "Requirement already satisfied: google-crc32c<2.0dev,>=1.0 in /Users/matthieu/dev/freeldom/mlops-framework/venv/lib/python3.8/site-packages (from google-resumable-media<2.0dev,>=0.6.0->google-cloud-bigquery) (1.1.2)\n",
      "Requirement already satisfied: cffi>=1.0.0 in /Users/matthieu/dev/freeldom/mlops-framework/venv/lib/python3.8/site-packages (from google-crc32c<2.0dev,>=1.0->google-resumable-media<2.0dev,>=0.6.0->google-cloud-bigquery) (1.14.4)\n",
      "Requirement already satisfied: pycparser in /Users/matthieu/dev/freeldom/mlops-framework/venv/lib/python3.8/site-packages (from cffi>=1.0.0->google-crc32c<2.0dev,>=1.0->google-resumable-media<2.0dev,>=0.6.0->google-cloud-bigquery) (2.20)\n",
      "Requirement already satisfied: pyasn1<0.5.0,>=0.4.6 in /Users/matthieu/dev/freeldom/mlops-framework/venv/lib/python3.8/site-packages (from pyasn1-modules>=0.2.1->google-auth<2.0dev,>=1.21.1->google-api-core<2.0dev,>=1.21.0->google-cloud-bigquery) (0.4.8)\n",
      "Requirement already satisfied: urllib3<1.27,>=1.21.1 in /Users/matthieu/dev/freeldom/mlops-framework/venv/lib/python3.8/site-packages (from requests<3.0.0dev,>=2.18.0->google-api-core<2.0dev,>=1.21.0->google-cloud-bigquery) (1.26.2)\n",
      "Requirement already satisfied: idna<3,>=2.5 in /Users/matthieu/dev/freeldom/mlops-framework/venv/lib/python3.8/site-packages (from requests<3.0.0dev,>=2.18.0->google-api-core<2.0dev,>=1.21.0->google-cloud-bigquery) (2.10)\n",
      "Requirement already satisfied: certifi>=2017.4.17 in /Users/matthieu/dev/freeldom/mlops-framework/venv/lib/python3.8/site-packages (from requests<3.0.0dev,>=2.18.0->google-api-core<2.0dev,>=1.21.0->google-cloud-bigquery) (2020.12.5)\n",
      "Requirement already satisfied: chardet<5,>=3.0.2 in /Users/matthieu/dev/freeldom/mlops-framework/venv/lib/python3.8/site-packages (from requests<3.0.0dev,>=2.18.0->google-api-core<2.0dev,>=1.21.0->google-cloud-bigquery) (4.0.0)\n",
      "Requirement already satisfied: flatbuffers~=1.12.0 in /Users/matthieu/dev/freeldom/mlops-framework/venv/lib/python3.8/site-packages (from tensorflow) (1.12)\n",
      "Requirement already satisfied: grpcio~=1.32.0 in /Users/matthieu/dev/freeldom/mlops-framework/venv/lib/python3.8/site-packages (from tensorflow) (1.32.0)\n",
      "Requirement already satisfied: astunparse~=1.6.3 in /Users/matthieu/dev/freeldom/mlops-framework/venv/lib/python3.8/site-packages (from tensorflow) (1.6.3)\n",
      "Requirement already satisfied: numpy~=1.19.2 in /Users/matthieu/dev/freeldom/mlops-framework/venv/lib/python3.8/site-packages (from tensorflow) (1.19.5)\n",
      "Requirement already satisfied: typing-extensions~=3.7.4 in /Users/matthieu/dev/freeldom/mlops-framework/venv/lib/python3.8/site-packages (from tensorflow) (3.7.4.3)\n",
      "Requirement already satisfied: termcolor~=1.1.0 in /Users/matthieu/dev/freeldom/mlops-framework/venv/lib/python3.8/site-packages (from tensorflow) (1.1.0)\n",
      "Requirement already satisfied: tensorflow-estimator<2.5.0,>=2.4.0 in /Users/matthieu/dev/freeldom/mlops-framework/venv/lib/python3.8/site-packages (from tensorflow) (2.4.0)\n",
      "Requirement already satisfied: wrapt~=1.12.1 in /Users/matthieu/dev/freeldom/mlops-framework/venv/lib/python3.8/site-packages (from tensorflow) (1.12.1)\n",
      "Requirement already satisfied: absl-py~=0.10 in /Users/matthieu/dev/freeldom/mlops-framework/venv/lib/python3.8/site-packages (from tensorflow) (0.11.0)\n",
      "Requirement already satisfied: opt-einsum~=3.3.0 in /Users/matthieu/dev/freeldom/mlops-framework/venv/lib/python3.8/site-packages (from tensorflow) (3.3.0)\n",
      "Requirement already satisfied: wheel~=0.35 in /Users/matthieu/dev/freeldom/mlops-framework/venv/lib/python3.8/site-packages (from tensorflow) (0.36.2)\n",
      "Requirement already satisfied: gast==0.3.3 in /Users/matthieu/dev/freeldom/mlops-framework/venv/lib/python3.8/site-packages (from tensorflow) (0.3.3)\n",
      "Requirement already satisfied: tensorboard~=2.4 in /Users/matthieu/dev/freeldom/mlops-framework/venv/lib/python3.8/site-packages (from tensorflow) (2.4.1)\n",
      "Requirement already satisfied: google-pasta~=0.2 in /Users/matthieu/dev/freeldom/mlops-framework/venv/lib/python3.8/site-packages (from tensorflow) (0.2.0)\n",
      "Requirement already satisfied: keras-preprocessing~=1.1.2 in /Users/matthieu/dev/freeldom/mlops-framework/venv/lib/python3.8/site-packages (from tensorflow) (1.1.2)\n",
      "Requirement already satisfied: h5py~=2.10.0 in /Users/matthieu/dev/freeldom/mlops-framework/venv/lib/python3.8/site-packages (from tensorflow) (2.10.0)\n",
      "Requirement already satisfied: google-auth-oauthlib<0.5,>=0.4.1 in /Users/matthieu/dev/freeldom/mlops-framework/venv/lib/python3.8/site-packages (from tensorboard~=2.4->tensorflow) (0.4.2)\n",
      "Requirement already satisfied: werkzeug>=0.11.15 in /Users/matthieu/dev/freeldom/mlops-framework/venv/lib/python3.8/site-packages (from tensorboard~=2.4->tensorflow) (1.0.1)\n",
      "Requirement already satisfied: tensorboard-plugin-wit>=1.6.0 in /Users/matthieu/dev/freeldom/mlops-framework/venv/lib/python3.8/site-packages (from tensorboard~=2.4->tensorflow) (1.8.0)\n",
      "Requirement already satisfied: markdown>=2.6.8 in /Users/matthieu/dev/freeldom/mlops-framework/venv/lib/python3.8/site-packages (from tensorboard~=2.4->tensorflow) (3.3.4)\n",
      "Requirement already satisfied: requests-oauthlib>=0.7.0 in /Users/matthieu/dev/freeldom/mlops-framework/venv/lib/python3.8/site-packages (from google-auth-oauthlib<0.5,>=0.4.1->tensorboard~=2.4->tensorflow) (1.3.0)\n",
      "Requirement already satisfied: oauthlib>=3.0.0 in /Users/matthieu/dev/freeldom/mlops-framework/venv/lib/python3.8/site-packages (from requests-oauthlib>=0.7.0->google-auth-oauthlib<0.5,>=0.4.1->tensorboard~=2.4->tensorflow) (3.1.0)\n",
      "Requirement already satisfied: apache-beam[gcp]<3,>=2.28 in /Users/matthieu/dev/freeldom/mlops-framework/venv/lib/python3.8/site-packages (from tensorflow_data_validation) (2.29.0)\n",
      "Requirement already satisfied: tensorflow-metadata<0.31,>=0.30 in /Users/matthieu/dev/freeldom/mlops-framework/venv/lib/python3.8/site-packages (from tensorflow_data_validation) (0.30.0)\n",
      "Requirement already satisfied: tfx-bsl<0.31,>=0.30 in /Users/matthieu/dev/freeldom/mlops-framework/venv/lib/python3.8/site-packages (from tensorflow_data_validation) (0.30.0)\n",
      "Requirement already satisfied: joblib<0.15,>=0.12 in /Users/matthieu/dev/freeldom/mlops-framework/venv/lib/python3.8/site-packages (from tensorflow_data_validation) (0.14.1)\n",
      "Requirement already satisfied: pyarrow<3,>=1 in /Users/matthieu/dev/freeldom/mlops-framework/venv/lib/python3.8/site-packages (from tensorflow_data_validation) (2.0.0)\n",
      "Requirement already satisfied: pandas<2,>=1.0 in /Users/matthieu/dev/freeldom/mlops-framework/venv/lib/python3.8/site-packages (from tensorflow_data_validation) (1.0.3)\n",
      "Requirement already satisfied: fastavro<2,>=0.21.4 in /Users/matthieu/dev/freeldom/mlops-framework/venv/lib/python3.8/site-packages (from apache-beam[gcp]<3,>=2.28->tensorflow_data_validation) (1.4.1)\n",
      "Requirement already satisfied: oauth2client<5,>=2.0.1 in /Users/matthieu/dev/freeldom/mlops-framework/venv/lib/python3.8/site-packages (from apache-beam[gcp]<3,>=2.28->tensorflow_data_validation) (4.1.3)\n",
      "Requirement already satisfied: avro-python3!=1.9.2,<1.10.0,>=1.8.1 in /Users/matthieu/dev/freeldom/mlops-framework/venv/lib/python3.8/site-packages (from apache-beam[gcp]<3,>=2.28->tensorflow_data_validation) (1.9.2.1)\n",
      "Requirement already satisfied: hdfs<3.0.0,>=2.1.0 in /Users/matthieu/dev/freeldom/mlops-framework/venv/lib/python3.8/site-packages (from apache-beam[gcp]<3,>=2.28->tensorflow_data_validation) (2.6.0)\n",
      "Requirement already satisfied: httplib2<0.18.0,>=0.8 in /Users/matthieu/dev/freeldom/mlops-framework/venv/lib/python3.8/site-packages (from apache-beam[gcp]<3,>=2.28->tensorflow_data_validation) (0.17.4)\n",
      "Requirement already satisfied: dill<0.3.2,>=0.3.1.1 in /Users/matthieu/dev/freeldom/mlops-framework/venv/lib/python3.8/site-packages (from apache-beam[gcp]<3,>=2.28->tensorflow_data_validation) (0.3.1.1)\n",
      "Requirement already satisfied: future<1.0.0,>=0.18.2 in /Users/matthieu/dev/freeldom/mlops-framework/venv/lib/python3.8/site-packages (from apache-beam[gcp]<3,>=2.28->tensorflow_data_validation) (0.18.2)\n",
      "Requirement already satisfied: python-dateutil<3,>=2.8.0 in /Users/matthieu/dev/freeldom/mlops-framework/venv/lib/python3.8/site-packages (from apache-beam[gcp]<3,>=2.28->tensorflow_data_validation) (2.8.1)\n",
      "Requirement already satisfied: pymongo<4.0.0,>=3.8.0 in /Users/matthieu/dev/freeldom/mlops-framework/venv/lib/python3.8/site-packages (from apache-beam[gcp]<3,>=2.28->tensorflow_data_validation) (3.11.4)\n",
      "Requirement already satisfied: crcmod<2.0,>=1.7 in /Users/matthieu/dev/freeldom/mlops-framework/venv/lib/python3.8/site-packages (from apache-beam[gcp]<3,>=2.28->tensorflow_data_validation) (1.7)\n",
      "Requirement already satisfied: pydot<2,>=1.2.0 in /Users/matthieu/dev/freeldom/mlops-framework/venv/lib/python3.8/site-packages (from apache-beam[gcp]<3,>=2.28->tensorflow_data_validation) (1.4.2)\n",
      "Requirement already satisfied: google-apitools<0.5.32,>=0.5.31 in /Users/matthieu/dev/freeldom/mlops-framework/venv/lib/python3.8/site-packages (from apache-beam[gcp]<3,>=2.28->tensorflow_data_validation) (0.5.31)\n",
      "Requirement already satisfied: google-cloud-pubsub<2,>=0.39.0 in /Users/matthieu/dev/freeldom/mlops-framework/venv/lib/python3.8/site-packages (from apache-beam[gcp]<3,>=2.28->tensorflow_data_validation) (1.7.0)\n",
      "Requirement already satisfied: google-cloud-videointelligence<2,>=1.8.0 in /Users/matthieu/dev/freeldom/mlops-framework/venv/lib/python3.8/site-packages (from apache-beam[gcp]<3,>=2.28->tensorflow_data_validation) (1.16.1)\n",
      "Requirement already satisfied: google-cloud-bigtable<2,>=0.31.1 in /Users/matthieu/dev/freeldom/mlops-framework/venv/lib/python3.8/site-packages (from apache-beam[gcp]<3,>=2.28->tensorflow_data_validation) (1.7.0)\n",
      "Requirement already satisfied: google-cloud-spanner<2,>=1.13.0 in /Users/matthieu/dev/freeldom/mlops-framework/venv/lib/python3.8/site-packages (from apache-beam[gcp]<3,>=2.28->tensorflow_data_validation) (1.19.1)\n",
      "Requirement already satisfied: google-cloud-vision<2,>=0.38.0 in /Users/matthieu/dev/freeldom/mlops-framework/venv/lib/python3.8/site-packages (from apache-beam[gcp]<3,>=2.28->tensorflow_data_validation) (1.0.0)\n",
      "Requirement already satisfied: google-cloud-dlp<2,>=0.12.0 in /Users/matthieu/dev/freeldom/mlops-framework/venv/lib/python3.8/site-packages (from apache-beam[gcp]<3,>=2.28->tensorflow_data_validation) (1.0.0)\n",
      "Requirement already satisfied: google-cloud-language<2,>=1.3.0 in /Users/matthieu/dev/freeldom/mlops-framework/venv/lib/python3.8/site-packages (from apache-beam[gcp]<3,>=2.28->tensorflow_data_validation) (1.3.0)\n",
      "Requirement already satisfied: google-cloud-datastore<2,>=1.7.1 in /Users/matthieu/dev/freeldom/mlops-framework/venv/lib/python3.8/site-packages (from apache-beam[gcp]<3,>=2.28->tensorflow_data_validation) (1.15.3)\n",
      "Requirement already satisfied: grpcio-gcp<1,>=0.2.2 in /Users/matthieu/dev/freeldom/mlops-framework/venv/lib/python3.8/site-packages (from apache-beam[gcp]<3,>=2.28->tensorflow_data_validation) (0.2.2)\n",
      "Requirement already satisfied: fasteners>=0.14 in /Users/matthieu/dev/freeldom/mlops-framework/venv/lib/python3.8/site-packages (from google-apitools<0.5.32,>=0.5.31->apache-beam[gcp]<3,>=2.28->tensorflow_data_validation) (0.16)\n",
      "Requirement already satisfied: grpc-google-iam-v1<0.13dev,>=0.12.3 in /Users/matthieu/dev/freeldom/mlops-framework/venv/lib/python3.8/site-packages (from google-cloud-bigtable<2,>=0.31.1->apache-beam[gcp]<3,>=2.28->tensorflow_data_validation) (0.12.3)\n",
      "Requirement already satisfied: docopt in /Users/matthieu/dev/freeldom/mlops-framework/venv/lib/python3.8/site-packages (from hdfs<3.0.0,>=2.1.0->apache-beam[gcp]<3,>=2.28->tensorflow_data_validation) (0.6.2)\n",
      "Requirement already satisfied: pyparsing>=2.1.4 in /Users/matthieu/dev/freeldom/mlops-framework/venv/lib/python3.8/site-packages (from pydot<2,>=1.2.0->apache-beam[gcp]<3,>=2.28->tensorflow_data_validation) (2.4.7)\n",
      "Requirement already satisfied: google-api-python-client<2,>=1.7.11 in /Users/matthieu/dev/freeldom/mlops-framework/venv/lib/python3.8/site-packages (from tfx-bsl<0.31,>=0.30->tensorflow_data_validation) (1.12.8)\n",
      "Requirement already satisfied: tensorflow-serving-api!=2.0.*,!=2.1.*,!=2.2.*,!=2.3.*,<3,>=1.15 in /Users/matthieu/dev/freeldom/mlops-framework/venv/lib/python3.8/site-packages (from tfx-bsl<0.31,>=0.30->tensorflow_data_validation) (2.4.1)\n",
      "Requirement already satisfied: google-auth-httplib2>=0.0.3 in /Users/matthieu/dev/freeldom/mlops-framework/venv/lib/python3.8/site-packages (from google-api-python-client<2,>=1.7.11->tfx-bsl<0.31,>=0.30->tensorflow_data_validation) (0.0.4)\n",
      "Requirement already satisfied: uritemplate<4dev,>=3.0.0 in /Users/matthieu/dev/freeldom/mlops-framework/venv/lib/python3.8/site-packages (from google-api-python-client<2,>=1.7.11->tfx-bsl<0.31,>=0.30->tensorflow_data_validation) (3.0.1)\n",
      "\u001b[33mWARNING: You are using pip version 20.3.3; however, version 21.1.2 is available.\n",
      "You should consider upgrading via the '/Users/matthieu/dev/freeldom/mlops-framework/venv/bin/python -m pip install --upgrade pip' command.\u001b[0m\n"
     ]
    }
   ],
   "source": [
    "!pip install tensorflow tensorflow_data_validation google-cloud-bigquery"
   ]
  },
  {
   "cell_type": "markdown",
   "id": "elect-baking",
   "metadata": {},
   "source": [
    "### Dataset\n",
    "\n",
    "This notebook uses [Chicago crime data](https://data.cityofchicago.org/) data published as a public dataset in BigQuery. This dataset reflects reported incidents of crime (with the exception of murders where data exists for each victim) that occurred in the City of Chicago from 2001 to present, minus the most recent seven days. The data will be extracted with the following columns:\n",
    "\n",
    "- **date**: Date when the incident occurred. this is sometimes a best estimate.\n",
    "- **iucr**: The Illinois Unifrom Crime Reporting code.\n",
    "- **primary_type**: The primary description of the IUCR code.\n",
    "- **location_description**: Description of the location where the incident occurred.\n",
    "- **arrest**: Indicates whether an arrest was made.\n",
    "- **domestic**: Indicates whether the incident was domestic-related as defined by the Illinois Domestic Violence Act.\n",
    "- **district**: Indicates the police district where the incident occurred. \n",
    "- **ward**: The ward (City Council district) where the incident occurred.\n",
    "- **fbi_code**: Indicates the crime classification.\n",
    "- **year**: Year the incident occurred.\n"
   ]
  },
  {
   "cell_type": "markdown",
   "id": "convenient-termination",
   "metadata": {},
   "source": [
    "### Imports"
   ]
  },
  {
   "cell_type": "code",
   "execution_count": 119,
   "id": "nonprofit-alberta",
   "metadata": {},
   "outputs": [],
   "source": [
    "from google.cloud import bigquery\n",
    "import tensorflow_data_validation as tfdv\n",
    "import pandas as pd\n",
    "from tensorflow.python.lib.io import file_io\n",
    "from google.protobuf import text_format"
   ]
  },
  {
   "cell_type": "markdown",
   "id": "smart-zealand",
   "metadata": {},
   "source": [
    "## Extract data from BigQuery"
   ]
  },
  {
   "cell_type": "markdown",
   "id": "latin-gabriel",
   "metadata": {},
   "source": [
    "Our dataset is part of public data in BigQuery. I assume you have already set up your environment to query BigQuery, if not follow the [official documentation](https://cloud.google.com/bigquery/docs/bigquery-storage-python-pandas). First, let's get 5 records to confirm we can query the table. "
   ]
  },
  {
   "cell_type": "code",
   "execution_count": 120,
   "id": "wireless-criterion",
   "metadata": {},
   "outputs": [],
   "source": [
    "CHICAGO_CRIME_TABLE = 'bigquery-public-data.chicago_crime.crime'\n",
    "\n",
    "bq_client = bigquery.Client()"
   ]
  },
  {
   "cell_type": "code",
   "execution_count": 121,
   "id": "loose-stadium",
   "metadata": {},
   "outputs": [],
   "source": [
    "def execute_query(client: bigquery.Client, query: str) -> pd.DataFrame:\n",
    "    query_job = bq_client.query(query)\n",
    "    results = query_job.result()\n",
    "    return results.to_dataframe()"
   ]
  },
  {
   "cell_type": "code",
   "execution_count": 123,
   "id": "eight-sterling",
   "metadata": {},
   "outputs": [
    {
     "name": "stderr",
     "output_type": "stream",
     "text": [
      "/Users/matthieu/dev/freeldom/mlops-framework/venv/lib/python3.8/site-packages/google/cloud/bigquery/client.py:444: UserWarning: Cannot create BigQuery Storage client, the dependency google-cloud-bigquery-storage is not installed.\n",
      "  warnings.warn(\n"
     ]
    },
    {
     "data": {
      "text/html": [
       "<div>\n",
       "<style scoped>\n",
       "    .dataframe tbody tr th:only-of-type {\n",
       "        vertical-align: middle;\n",
       "    }\n",
       "\n",
       "    .dataframe tbody tr th {\n",
       "        vertical-align: top;\n",
       "    }\n",
       "\n",
       "    .dataframe thead th {\n",
       "        text-align: right;\n",
       "    }\n",
       "</style>\n",
       "<table border=\"1\" class=\"dataframe\">\n",
       "  <thead>\n",
       "    <tr style=\"text-align: right;\">\n",
       "      <th></th>\n",
       "      <th>date</th>\n",
       "      <th>iucr</th>\n",
       "      <th>primary_type</th>\n",
       "      <th>location_description</th>\n",
       "      <th>arrest</th>\n",
       "      <th>domestic</th>\n",
       "      <th>district</th>\n",
       "      <th>ward</th>\n",
       "      <th>fbi_code</th>\n",
       "    </tr>\n",
       "  </thead>\n",
       "  <tbody>\n",
       "    <tr>\n",
       "      <th>0</th>\n",
       "      <td>2015-10-03 19:20:00+00:00</td>\n",
       "      <td>0470</td>\n",
       "      <td>PUBLIC PEACE VIOLATION</td>\n",
       "      <td>SIDEWALK</td>\n",
       "      <td>True</td>\n",
       "      <td>False</td>\n",
       "      <td>9</td>\n",
       "      <td>25</td>\n",
       "      <td>24</td>\n",
       "    </tr>\n",
       "    <tr>\n",
       "      <th>1</th>\n",
       "      <td>2011-03-01 00:00:00+00:00</td>\n",
       "      <td>3960</td>\n",
       "      <td>INTIMIDATION</td>\n",
       "      <td>RESIDENCE</td>\n",
       "      <td>True</td>\n",
       "      <td>True</td>\n",
       "      <td>4</td>\n",
       "      <td>8</td>\n",
       "      <td>26</td>\n",
       "    </tr>\n",
       "    <tr>\n",
       "      <th>2</th>\n",
       "      <td>2015-05-15 15:00:00+00:00</td>\n",
       "      <td>0918</td>\n",
       "      <td>MOTOR VEHICLE THEFT</td>\n",
       "      <td>RESIDENCE-GARAGE</td>\n",
       "      <td>False</td>\n",
       "      <td>False</td>\n",
       "      <td>4</td>\n",
       "      <td>10</td>\n",
       "      <td>07</td>\n",
       "    </tr>\n",
       "    <tr>\n",
       "      <th>3</th>\n",
       "      <td>2015-10-30 15:35:00+00:00</td>\n",
       "      <td>0470</td>\n",
       "      <td>PUBLIC PEACE VIOLATION</td>\n",
       "      <td>CTA STATION</td>\n",
       "      <td>True</td>\n",
       "      <td>False</td>\n",
       "      <td>8</td>\n",
       "      <td>23</td>\n",
       "      <td>24</td>\n",
       "    </tr>\n",
       "    <tr>\n",
       "      <th>4</th>\n",
       "      <td>2015-11-04 08:00:00+00:00</td>\n",
       "      <td>0266</td>\n",
       "      <td>CRIM SEXUAL ASSAULT</td>\n",
       "      <td>RESIDENCE</td>\n",
       "      <td>False</td>\n",
       "      <td>False</td>\n",
       "      <td>4</td>\n",
       "      <td>10</td>\n",
       "      <td>02</td>\n",
       "    </tr>\n",
       "  </tbody>\n",
       "</table>\n",
       "</div>"
      ],
      "text/plain": [
       "                       date  iucr            primary_type  \\\n",
       "0 2015-10-03 19:20:00+00:00  0470  PUBLIC PEACE VIOLATION   \n",
       "1 2011-03-01 00:00:00+00:00  3960  INTIMIDATION             \n",
       "2 2015-05-15 15:00:00+00:00  0918  MOTOR VEHICLE THEFT      \n",
       "3 2015-10-30 15:35:00+00:00  0470  PUBLIC PEACE VIOLATION   \n",
       "4 2015-11-04 08:00:00+00:00  0266  CRIM SEXUAL ASSAULT      \n",
       "\n",
       "  location_description  arrest  domestic  district  ward fbi_code  \n",
       "0  SIDEWALK             True    False     9         25    24       \n",
       "1  RESIDENCE            True    True      4         8     26       \n",
       "2  RESIDENCE-GARAGE     False   False     4         10    07       \n",
       "3  CTA STATION          True    False     8         23    24       \n",
       "4  RESIDENCE            False   False     4         10    02       "
      ]
     },
     "execution_count": 123,
     "metadata": {},
     "output_type": "execute_result"
    }
   ],
   "source": [
    "EXPLORATION_QUERY = f\"\"\"\n",
    "    SELECT\n",
    "        date,\n",
    "        iucr,\n",
    "        primary_type,\n",
    "        location_description,\n",
    "        arrest,\n",
    "        domestic,\n",
    "        district,\n",
    "        ward,\n",
    "        fbi_code\n",
    "    FROM\n",
    "      {CHICAGO_CRIME_TABLE}\n",
    "    LIMIT 5\n",
    "\"\"\"\n",
    "results = execute_query(bq_client, EXPLORATION_QUERY)\n",
    "results.head()"
   ]
  },
  {
   "cell_type": "markdown",
   "id": "after-challenge",
   "metadata": {},
   "source": [
    "Feel free to further explore the dataset if you want to. In the next sections, we will use crime data from 2019 to generate the statistics and validate them against 2020 data. Then, we will see how you can perform the same data validation at scale with bigger datasets.\n",
    "\n",
    "Now, let's extract the data."
   ]
  },
  {
   "cell_type": "code",
   "execution_count": 124,
   "id": "representative-cattle",
   "metadata": {},
   "outputs": [],
   "source": [
    "def generate_query(year_from: int = None, year_to: int = None, limit: int = None) -> str:\n",
    "    query = f\"\"\"\n",
    "        SELECT \n",
    "            FORMAT_DATE('%Y',  CAST(date AS DATE)) AS crime_year,\n",
    "            FORMAT_DATE('%b',  CAST(date AS DATE)) AS crime_month,\n",
    "            FORMAT_DATE('%d',  CAST(date AS DATE)) AS crime_day, \n",
    "            FORMAT_DATE('%a',  CAST(date AS DATE)) AS crime_day_of_week, \n",
    "            iucr,\n",
    "            primary_type,\n",
    "            location_description,\n",
    "            CAST(domestic AS INT64) AS domestic,\n",
    "            district,\n",
    "            ward,\n",
    "            fbi_code,\n",
    "            CAST(arrest AS INT64) AS arrest,\n",
    "        FROM \n",
    "          {CHICAGO_CRIME_TABLE}\n",
    "        \"\"\"\n",
    "    if year_from:\n",
    "        query += f\"WHERE year >= {year_from}\"\n",
    "        if year_to:\n",
    "            query += f\" AND year <= {year_to} \\n\"\n",
    "    if limit:\n",
    "        query  += f\"LIMIT {limit}\"\n",
    "        \n",
    "    return query"
   ]
  },
  {
   "cell_type": "code",
   "execution_count": 125,
   "id": "logical-perfume",
   "metadata": {},
   "outputs": [
    {
     "name": "stderr",
     "output_type": "stream",
     "text": [
      "/Users/matthieu/dev/freeldom/mlops-framework/venv/lib/python3.8/site-packages/google/cloud/bigquery/client.py:444: UserWarning: Cannot create BigQuery Storage client, the dependency google-cloud-bigquery-storage is not installed.\n",
      "  warnings.warn(\n"
     ]
    }
   ],
   "source": [
    "crime_df = execute_query(bq_client, generate_query(2019, 2019))"
   ]
  },
  {
   "cell_type": "code",
   "execution_count": 126,
   "id": "invisible-geometry",
   "metadata": {},
   "outputs": [
    {
     "data": {
      "text/plain": [
       "crime_year              260673\n",
       "crime_month             260673\n",
       "crime_day               260673\n",
       "crime_day_of_week       260673\n",
       "iucr                    260673\n",
       "primary_type            260673\n",
       "location_description    259512\n",
       "domestic                260673\n",
       "district                260673\n",
       "ward                    260658\n",
       "fbi_code                260673\n",
       "arrest                  260673\n",
       "dtype: int64"
      ]
     },
     "execution_count": 126,
     "metadata": {},
     "output_type": "execute_result"
    }
   ],
   "source": [
    "crime_df.count()"
   ]
  },
  {
   "cell_type": "markdown",
   "id": "human-coating",
   "metadata": {},
   "source": [
    "## Generate statistics\n",
    "\n",
    "We have extracted Chicago crime data in 2019 and we can now generate the statistics. The function execute_query returns a pandas dataframe and we can use [tfdv.generate_statistics_from_dataframe](https://www.tensorflow.org/tfx/data_validation/api_docs/python/tfdv/generate_statistics_from_dataframe) to generate the statistics. Note similar functions exist to extract from TF Records and CSV datasets."
   ]
  },
  {
   "cell_type": "code",
   "execution_count": 127,
   "id": "presidential-madonna",
   "metadata": {},
   "outputs": [],
   "source": [
    "crime_2019_stats = tfdv.generate_statistics_from_dataframe(crime_df)"
   ]
  },
  {
   "cell_type": "markdown",
   "id": "stupid-practitioner",
   "metadata": {},
   "source": [
    "Let's visualize the statistics using [tfdv.visualize_statistics](https://www.tensorflow.org/tfx/data_validation/api_docs/python/tfdv/visualize_statistics), which uses Facets to create a succinct visualization of our data and help to identify common bugs like unbalanced datasets. Feel free to explore the filters and other features this tool offers."
   ]
  },
  {
   "cell_type": "code",
   "execution_count": 128,
   "id": "announced-ridge",
   "metadata": {},
   "outputs": [
    {
     "data": {
      "text/html": [
       "<iframe id='facets-iframe' width=\"100%\" height=\"500px\"></iframe>\n",
       "        <script>\n",
       "        facets_iframe = document.getElementById('facets-iframe');\n",
       "        facets_html = '<script src=\"https://cdnjs.cloudflare.com/ajax/libs/webcomponentsjs/1.3.3/webcomponents-lite.js\"><\\/script><link rel=\"import\" href=\"https://raw.githubusercontent.com/PAIR-code/facets/master/facets-dist/facets-jupyter.html\"><facets-overview proto-input=\"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\"></facets-overview>';\n",
       "        facets_iframe.srcdoc = facets_html;\n",
       "         facets_iframe.id = \"\";\n",
       "         setTimeout(() => {\n",
       "           facets_iframe.setAttribute('height', facets_iframe.contentWindow.document.body.offsetHeight + 'px')\n",
       "         }, 1500)\n",
       "         </script>"
      ],
      "text/plain": [
       "<IPython.core.display.HTML object>"
      ]
     },
     "metadata": {},
     "output_type": "display_data"
    }
   ],
   "source": [
    "tfdv.visualize_statistics(crime_2019_stats)"
   ]
  },
  {
   "cell_type": "markdown",
   "id": "fixed-colombia",
   "metadata": {},
   "source": [
    "Using this tool, you can quickly and easily spot issues, identify data ranges, categorical attributes values, etc. in your datasets. For example, you could use \"Sort by missing/zeroes\" to quickly identify attributes with a lot of null or 0 values. and decide if it's expected or if something needs to be fixed in your data.\n"
   ]
  },
  {
   "cell_type": "markdown",
   "id": "suited-warrant",
   "metadata": {},
   "source": [
    "## Generate Schema\n",
    "\n",
    "After deploying your pipeline to production, you may not be aware of changes in the data source. For example, an attribute used by your model could be added or dropped, or the type could be converted from integer to string. If you don't detect these changes, the downstream steps of your pipeline may not succeed or the performance of your model may decrease. Generating a schema and ensuring all new datasets going through your ML pipeline follow the same one makes your solution more robust and reliable.\n",
    "\n",
    "\n",
    "So now that we have the statistics, let's infer the schema using [tfdv.infer_schema](https://www.tensorflow.org/tfx/data_validation/api_docs/python/tfdv/infer_schema) and [display_schema](https://www.tensorflow.org/tfx/data_validation/api_docs/python/tfdv/display_schema)."
   ]
  },
  {
   "cell_type": "code",
   "execution_count": 129,
   "id": "alternate-classroom",
   "metadata": {},
   "outputs": [
    {
     "data": {
      "text/html": [
       "<div>\n",
       "<style scoped>\n",
       "    .dataframe tbody tr th:only-of-type {\n",
       "        vertical-align: middle;\n",
       "    }\n",
       "\n",
       "    .dataframe tbody tr th {\n",
       "        vertical-align: top;\n",
       "    }\n",
       "\n",
       "    .dataframe thead th {\n",
       "        text-align: right;\n",
       "    }\n",
       "</style>\n",
       "<table border=\"1\" class=\"dataframe\">\n",
       "  <thead>\n",
       "    <tr style=\"text-align: right;\">\n",
       "      <th></th>\n",
       "      <th>Type</th>\n",
       "      <th>Presence</th>\n",
       "      <th>Valency</th>\n",
       "      <th>Domain</th>\n",
       "    </tr>\n",
       "    <tr>\n",
       "      <th>Feature name</th>\n",
       "      <th></th>\n",
       "      <th></th>\n",
       "      <th></th>\n",
       "      <th></th>\n",
       "    </tr>\n",
       "  </thead>\n",
       "  <tbody>\n",
       "    <tr>\n",
       "      <th>'crime_year'</th>\n",
       "      <td>BYTES</td>\n",
       "      <td>required</td>\n",
       "      <td></td>\n",
       "      <td>-</td>\n",
       "    </tr>\n",
       "    <tr>\n",
       "      <th>'crime_month'</th>\n",
       "      <td>STRING</td>\n",
       "      <td>required</td>\n",
       "      <td></td>\n",
       "      <td>'crime_month'</td>\n",
       "    </tr>\n",
       "    <tr>\n",
       "      <th>'crime_day'</th>\n",
       "      <td>BYTES</td>\n",
       "      <td>required</td>\n",
       "      <td></td>\n",
       "      <td>-</td>\n",
       "    </tr>\n",
       "    <tr>\n",
       "      <th>'crime_day_of_week'</th>\n",
       "      <td>STRING</td>\n",
       "      <td>required</td>\n",
       "      <td></td>\n",
       "      <td>'crime_day_of_week'</td>\n",
       "    </tr>\n",
       "    <tr>\n",
       "      <th>'iucr'</th>\n",
       "      <td>BYTES</td>\n",
       "      <td>required</td>\n",
       "      <td></td>\n",
       "      <td>-</td>\n",
       "    </tr>\n",
       "    <tr>\n",
       "      <th>'primary_type'</th>\n",
       "      <td>STRING</td>\n",
       "      <td>required</td>\n",
       "      <td></td>\n",
       "      <td>'primary_type'</td>\n",
       "    </tr>\n",
       "    <tr>\n",
       "      <th>'location_description'</th>\n",
       "      <td>BYTES</td>\n",
       "      <td>optional</td>\n",
       "      <td>single</td>\n",
       "      <td>-</td>\n",
       "    </tr>\n",
       "    <tr>\n",
       "      <th>'domestic'</th>\n",
       "      <td>INT</td>\n",
       "      <td>required</td>\n",
       "      <td></td>\n",
       "      <td>-</td>\n",
       "    </tr>\n",
       "    <tr>\n",
       "      <th>'district'</th>\n",
       "      <td>INT</td>\n",
       "      <td>required</td>\n",
       "      <td></td>\n",
       "      <td>-</td>\n",
       "    </tr>\n",
       "    <tr>\n",
       "      <th>'ward'</th>\n",
       "      <td>FLOAT</td>\n",
       "      <td>optional</td>\n",
       "      <td>single</td>\n",
       "      <td>-</td>\n",
       "    </tr>\n",
       "    <tr>\n",
       "      <th>'fbi_code'</th>\n",
       "      <td>STRING</td>\n",
       "      <td>required</td>\n",
       "      <td></td>\n",
       "      <td>'fbi_code'</td>\n",
       "    </tr>\n",
       "    <tr>\n",
       "      <th>'arrest'</th>\n",
       "      <td>INT</td>\n",
       "      <td>required</td>\n",
       "      <td></td>\n",
       "      <td>-</td>\n",
       "    </tr>\n",
       "  </tbody>\n",
       "</table>\n",
       "</div>"
      ],
      "text/plain": [
       "                          Type  Presence Valency               Domain\n",
       "Feature name                                                         \n",
       "'crime_year'            BYTES   required          -                  \n",
       "'crime_month'           STRING  required          'crime_month'      \n",
       "'crime_day'             BYTES   required          -                  \n",
       "'crime_day_of_week'     STRING  required          'crime_day_of_week'\n",
       "'iucr'                  BYTES   required          -                  \n",
       "'primary_type'          STRING  required          'primary_type'     \n",
       "'location_description'  BYTES   optional  single  -                  \n",
       "'domestic'              INT     required          -                  \n",
       "'district'              INT     required          -                  \n",
       "'ward'                  FLOAT   optional  single  -                  \n",
       "'fbi_code'              STRING  required          'fbi_code'         \n",
       "'arrest'                INT     required          -                  "
      ]
     },
     "metadata": {},
     "output_type": "display_data"
    },
    {
     "name": "stderr",
     "output_type": "stream",
     "text": [
      "/Users/matthieu/dev/freeldom/mlops-framework/venv/lib/python3.8/site-packages/tensorflow_data_validation/utils/display_util.py:180: FutureWarning: Passing a negative integer is deprecated in version 1.0 and will not be supported in future version. Instead, use None to not limit the column width.\n",
      "  pd.set_option('max_colwidth', -1)\n"
     ]
    },
    {
     "data": {
      "text/html": [
       "<div>\n",
       "<style scoped>\n",
       "    .dataframe tbody tr th:only-of-type {\n",
       "        vertical-align: middle;\n",
       "    }\n",
       "\n",
       "    .dataframe tbody tr th {\n",
       "        vertical-align: top;\n",
       "    }\n",
       "\n",
       "    .dataframe thead th {\n",
       "        text-align: right;\n",
       "    }\n",
       "</style>\n",
       "<table border=\"1\" class=\"dataframe\">\n",
       "  <thead>\n",
       "    <tr style=\"text-align: right;\">\n",
       "      <th></th>\n",
       "      <th>Values</th>\n",
       "    </tr>\n",
       "    <tr>\n",
       "      <th>Domain</th>\n",
       "      <th></th>\n",
       "    </tr>\n",
       "  </thead>\n",
       "  <tbody>\n",
       "    <tr>\n",
       "      <th>'crime_month'</th>\n",
       "      <td>'Apr', 'Aug', 'Dec', 'Feb', 'Jan', 'Jul', 'Jun', 'Mar', 'May', 'Nov', 'Oct', 'Sep'</td>\n",
       "    </tr>\n",
       "    <tr>\n",
       "      <th>'crime_day_of_week'</th>\n",
       "      <td>'Fri', 'Mon', 'Sat', 'Sun', 'Thu', 'Tue', 'Wed'</td>\n",
       "    </tr>\n",
       "    <tr>\n",
       "      <th>'primary_type'</th>\n",
       "      <td>'ARSON', 'ASSAULT', 'BATTERY', 'BURGLARY', 'CONCEALED CARRY LICENSE VIOLATION', 'CRIM SEXUAL ASSAULT', 'CRIMINAL DAMAGE', 'CRIMINAL SEXUAL ASSAULT', 'CRIMINAL TRESPASS', 'DECEPTIVE PRACTICE', 'GAMBLING', 'HOMICIDE', 'HUMAN TRAFFICKING', 'INTERFERENCE WITH PUBLIC OFFICER', 'INTIMIDATION', 'KIDNAPPING', 'LIQUOR LAW VIOLATION', 'MOTOR VEHICLE THEFT', 'NARCOTICS', 'NON-CRIMINAL', 'OBSCENITY', 'OFFENSE INVOLVING CHILDREN', 'OTHER NARCOTIC VIOLATION', 'OTHER OFFENSE', 'PROSTITUTION', 'PUBLIC INDECENCY', 'PUBLIC PEACE VIOLATION', 'ROBBERY', 'SEX OFFENSE', 'STALKING', 'THEFT', 'WEAPONS VIOLATION'</td>\n",
       "    </tr>\n",
       "    <tr>\n",
       "      <th>'fbi_code'</th>\n",
       "      <td>'01A', '01B', '02', '03', '04A', '04B', '05', '06', '07', '08A', '08B', '09', '10', '11', '12', '13', '14', '15', '16', '17', '18', '19', '20', '22', '24', '26'</td>\n",
       "    </tr>\n",
       "  </tbody>\n",
       "</table>\n",
       "</div>"
      ],
      "text/plain": [
       "                                                                                                                                                                                                                                                                                                                                                                                                                                                                                                                                                                                                                                  Values\n",
       "Domain                                                                                                                                                                                                                                                                                                                                                                                                                                                                                                                                                                                                                                  \n",
       "'crime_month'        'Apr', 'Aug', 'Dec', 'Feb', 'Jan', 'Jul', 'Jun', 'Mar', 'May', 'Nov', 'Oct', 'Sep'                                                                                                                                                                                                                                                                                                                                                                                                                                                                                                                                 \n",
       "'crime_day_of_week'  'Fri', 'Mon', 'Sat', 'Sun', 'Thu', 'Tue', 'Wed'                                                                                                                                                                                                                                                                                                                                                                                                                                                                                                                                                                    \n",
       "'primary_type'       'ARSON', 'ASSAULT', 'BATTERY', 'BURGLARY', 'CONCEALED CARRY LICENSE VIOLATION', 'CRIM SEXUAL ASSAULT', 'CRIMINAL DAMAGE', 'CRIMINAL SEXUAL ASSAULT', 'CRIMINAL TRESPASS', 'DECEPTIVE PRACTICE', 'GAMBLING', 'HOMICIDE', 'HUMAN TRAFFICKING', 'INTERFERENCE WITH PUBLIC OFFICER', 'INTIMIDATION', 'KIDNAPPING', 'LIQUOR LAW VIOLATION', 'MOTOR VEHICLE THEFT', 'NARCOTICS', 'NON-CRIMINAL', 'OBSCENITY', 'OFFENSE INVOLVING CHILDREN', 'OTHER NARCOTIC VIOLATION', 'OTHER OFFENSE', 'PROSTITUTION', 'PUBLIC INDECENCY', 'PUBLIC PEACE VIOLATION', 'ROBBERY', 'SEX OFFENSE', 'STALKING', 'THEFT', 'WEAPONS VIOLATION'\n",
       "'fbi_code'           '01A', '01B', '02', '03', '04A', '04B', '05', '06', '07', '08A', '08B', '09', '10', '11', '12', '13', '14', '15', '16', '17', '18', '19', '20', '22', '24', '26'                                                                                                                                                                                                                                                                                                                                                                                                                                                   "
      ]
     },
     "metadata": {},
     "output_type": "display_data"
    }
   ],
   "source": [
    "crime_2019_schema = tfdv.infer_schema(statistics=crime_2019_stats)\n",
    "tfdv.display_schema(schema=crime_2019_schema)"
   ]
  },
  {
   "cell_type": "markdown",
   "id": "eligible-queensland",
   "metadata": {},
   "source": [
    "You can see the list of features and their type. Some of them have been detected as categorical features and the domain has been extracted."
   ]
  },
  {
   "cell_type": "markdown",
   "id": "threaded-instruction",
   "metadata": {},
   "source": [
    "## Validating using crimes from 2020\n",
    "\n",
    "We have used data from 2019 to generate the schema. However, what if a specific type of crimes hasn't been made in 2019, but exists in 2020? Let's see what would happen by extracting 2020 data and applying our schema."
   ]
  },
  {
   "cell_type": "code",
   "execution_count": 130,
   "id": "baking-announcement",
   "metadata": {},
   "outputs": [
    {
     "name": "stderr",
     "output_type": "stream",
     "text": [
      "/Users/matthieu/dev/freeldom/mlops-framework/venv/lib/python3.8/site-packages/google/cloud/bigquery/client.py:444: UserWarning: Cannot create BigQuery Storage client, the dependency google-cloud-bigquery-storage is not installed.\n",
      "  warnings.warn(\n"
     ]
    }
   ],
   "source": [
    "crime_2020_df = execute_query(bq_client, generate_query(2020, 2020))"
   ]
  },
  {
   "cell_type": "code",
   "execution_count": 131,
   "id": "three-entertainment",
   "metadata": {},
   "outputs": [],
   "source": [
    "crime_2020_stats = tfdv.generate_statistics_from_dataframe(crime_2020_df)"
   ]
  },
  {
   "cell_type": "markdown",
   "id": "difficult-terrorism",
   "metadata": {},
   "source": [
    "We have generated the stats for 2020, note that you can visualize them as done previously. You can also directly compare the stats with 2019 using [tfdv.visualize_statistics](https://www.tensorflow.org/tfx/data_validation/api_docs/python/tfdv/visualize_statistics)"
   ]
  },
  {
   "cell_type": "code",
   "execution_count": 132,
   "id": "focused-scratch",
   "metadata": {},
   "outputs": [
    {
     "data": {
      "text/html": [
       "<iframe id='facets-iframe' width=\"100%\" height=\"500px\"></iframe>\n",
       "        <script>\n",
       "        facets_iframe = document.getElementById('facets-iframe');\n",
       "        facets_html = '<script src=\"https://cdnjs.cloudflare.com/ajax/libs/webcomponentsjs/1.3.3/webcomponents-lite.js\"><\\/script><link rel=\"import\" href=\"https://raw.githubusercontent.com/PAIR-code/facets/master/facets-dist/facets-jupyter.html\"><facets-overview proto-input=\"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\"></facets-overview>';\n",
       "        facets_iframe.srcdoc = facets_html;\n",
       "         facets_iframe.id = \"\";\n",
       "         setTimeout(() => {\n",
       "           facets_iframe.setAttribute('height', facets_iframe.contentWindow.document.body.offsetHeight + 'px')\n",
       "         }, 1500)\n",
       "         </script>"
      ],
      "text/plain": [
       "<IPython.core.display.HTML object>"
      ]
     },
     "metadata": {},
     "output_type": "display_data"
    }
   ],
   "source": [
    "tfdv.visualize_statistics(\n",
    "    lhs_statistics=crime_2019_stats,\n",
    "    rhs_statistics=crime_2020_stats,\n",
    "    lhs_name='2019',\n",
    "    rhs_name='2020'\n",
    ")"
   ]
  },
  {
   "cell_type": "markdown",
   "id": "blond-advantage",
   "metadata": {},
   "source": [
    "This is an easy way to compare the values. For example, you can deduce the number of crimes in 2020 is lower than 2019, but the percentage of cases where an arrest has been made is also lower."
   ]
  },
  {
   "cell_type": "markdown",
   "id": "delayed-amendment",
   "metadata": {},
   "source": [
    "Let's validate 2020 statistics with 2019 stats using [tfdv.validate_statistics](https://www.tensorflow.org/tfx/data_validation/api_docs/python/tfdv/validate_statistics) and [tfdv.display_anomalies](https://www.tensorflow.org/tfx/data_validation/api_docs/python/tfdv/display_anomalies)."
   ]
  },
  {
   "cell_type": "code",
   "execution_count": 133,
   "id": "amino-warner",
   "metadata": {},
   "outputs": [],
   "source": [
    "\n",
    "anomalies = tfdv.validate_statistics(\n",
    "    statistics=crime_2020_stats, \n",
    "    schema=crime_2019_schema,\n",
    "    previous_statistics=crime_2019_stats\n",
    ")"
   ]
  },
  {
   "cell_type": "code",
   "execution_count": 134,
   "id": "brief-chess",
   "metadata": {},
   "outputs": [
    {
     "name": "stderr",
     "output_type": "stream",
     "text": [
      "/Users/matthieu/dev/freeldom/mlops-framework/venv/lib/python3.8/site-packages/tensorflow_data_validation/utils/display_util.py:217: FutureWarning: Passing a negative integer is deprecated in version 1.0 and will not be supported in future version. Instead, use None to not limit the column width.\n",
      "  pd.set_option('max_colwidth', -1)\n"
     ]
    },
    {
     "data": {
      "text/html": [
       "<div>\n",
       "<style scoped>\n",
       "    .dataframe tbody tr th:only-of-type {\n",
       "        vertical-align: middle;\n",
       "    }\n",
       "\n",
       "    .dataframe tbody tr th {\n",
       "        vertical-align: top;\n",
       "    }\n",
       "\n",
       "    .dataframe thead th {\n",
       "        text-align: right;\n",
       "    }\n",
       "</style>\n",
       "<table border=\"1\" class=\"dataframe\">\n",
       "  <thead>\n",
       "    <tr style=\"text-align: right;\">\n",
       "      <th></th>\n",
       "      <th>Anomaly short description</th>\n",
       "      <th>Anomaly long description</th>\n",
       "    </tr>\n",
       "    <tr>\n",
       "      <th>Feature name</th>\n",
       "      <th></th>\n",
       "      <th></th>\n",
       "    </tr>\n",
       "  </thead>\n",
       "  <tbody>\n",
       "    <tr>\n",
       "      <th>'primary_type'</th>\n",
       "      <td>Unexpected string values</td>\n",
       "      <td>Examples contain values missing from the schema: RITUALISM (&lt;1%).</td>\n",
       "    </tr>\n",
       "  </tbody>\n",
       "</table>\n",
       "</div>"
      ],
      "text/plain": [
       "               Anomaly short description  \\\n",
       "Feature name                               \n",
       "'primary_type'  Unexpected string values   \n",
       "\n",
       "                                                          Anomaly long description  \n",
       "Feature name                                                                        \n",
       "'primary_type'  Examples contain values missing from the schema: RITUALISM (<1%).   "
      ]
     },
     "metadata": {},
     "output_type": "display_data"
    }
   ],
   "source": [
    "tfdv.display_anomalies(anomalies)"
   ]
  },
  {
   "cell_type": "markdown",
   "id": "organized-thousand",
   "metadata": {},
   "source": [
    "We can see one anomaly being detected. The feature `primary_type` is a categorical feature and there is a new value that wasn't in the original dataset in 2019. This error shouldn't be detected as one, the issue is more that our schema hasn't been generated with all possible values we could expect for this attribute. Let's update the schema and include this new primary_type."
   ]
  },
  {
   "cell_type": "code",
   "execution_count": 135,
   "id": "palestinian-mineral",
   "metadata": {},
   "outputs": [],
   "source": [
    "primary_types = tfdv.get_domain(crime_2019_schema, 'primary_type')\n",
    "primary_types.value.append('RITUALISM')"
   ]
  },
  {
   "cell_type": "markdown",
   "id": "laden-rachel",
   "metadata": {},
   "source": [
    "Let's recompute the anomalies, see if it fixed the problem."
   ]
  },
  {
   "cell_type": "code",
   "execution_count": 136,
   "id": "remarkable-radius",
   "metadata": {},
   "outputs": [
    {
     "name": "stderr",
     "output_type": "stream",
     "text": [
      "/Users/matthieu/dev/freeldom/mlops-framework/venv/lib/python3.8/site-packages/tensorflow_data_validation/utils/display_util.py:217: FutureWarning: Passing a negative integer is deprecated in version 1.0 and will not be supported in future version. Instead, use None to not limit the column width.\n",
      "  pd.set_option('max_colwidth', -1)\n"
     ]
    },
    {
     "data": {
      "text/html": [
       "<h4 style=\"color:green;\">No anomalies found.</h4>"
      ],
      "text/plain": [
       "<IPython.core.display.HTML object>"
      ]
     },
     "metadata": {},
     "output_type": "display_data"
    }
   ],
   "source": [
    "anomalies = tfdv.validate_statistics(\n",
    "    statistics=crime_2020_stats, \n",
    "    schema=crime_2019_schema,\n",
    "    previous_statistics=crime_2019_stats\n",
    ")\n",
    "tfdv.display_anomalies(anomalies)"
   ]
  },
  {
   "cell_type": "markdown",
   "id": "developing-contents",
   "metadata": {},
   "source": [
    "Looks good! There are many more ways to update your schema and apply more constraints, especially for detecting skew and drift. One of the best ways is to have a look at [the list of anomalies](https://www.tensorflow.org/tfx/data_validation/anomalies) that can be detected by tfdv, then apply them to your schema.\n",
    "\n",
    "For example, we can see `location_description` has 0.57% missing values in 2020 vs 0.45% in 2019. Let's say you want to set a treshold of 0.5% of missing values max. You could do it like below: "
   ]
  },
  {
   "cell_type": "code",
   "execution_count": 139,
   "id": "entitled-darwin",
   "metadata": {},
   "outputs": [],
   "source": [
    "tfdv.get_feature(crime_2019_schema, 'location_description').presence.min_fraction = 0.995"
   ]
  },
  {
   "cell_type": "code",
   "execution_count": 140,
   "id": "invisible-block",
   "metadata": {},
   "outputs": [
    {
     "data": {
      "text/html": [
       "<div>\n",
       "<style scoped>\n",
       "    .dataframe tbody tr th:only-of-type {\n",
       "        vertical-align: middle;\n",
       "    }\n",
       "\n",
       "    .dataframe tbody tr th {\n",
       "        vertical-align: top;\n",
       "    }\n",
       "\n",
       "    .dataframe thead th {\n",
       "        text-align: right;\n",
       "    }\n",
       "</style>\n",
       "<table border=\"1\" class=\"dataframe\">\n",
       "  <thead>\n",
       "    <tr style=\"text-align: right;\">\n",
       "      <th></th>\n",
       "      <th>Anomaly short description</th>\n",
       "      <th>Anomaly long description</th>\n",
       "    </tr>\n",
       "    <tr>\n",
       "      <th>Feature name</th>\n",
       "      <th></th>\n",
       "      <th></th>\n",
       "    </tr>\n",
       "  </thead>\n",
       "  <tbody>\n",
       "    <tr>\n",
       "      <th>'location_description'</th>\n",
       "      <td>Column dropped</td>\n",
       "      <td>The feature was present in fewer examples than expected: minimum fraction = 0.995000, actual = 0.994332</td>\n",
       "    </tr>\n",
       "  </tbody>\n",
       "</table>\n",
       "</div>"
      ],
      "text/plain": [
       "                       Anomaly short description  \\\n",
       "Feature name                                       \n",
       "'location_description'  Column dropped             \n",
       "\n",
       "                                                                                                       Anomaly long description  \n",
       "Feature name                                                                                                                     \n",
       "'location_description'  The feature was present in fewer examples than expected: minimum fraction = 0.995000, actual = 0.994332  "
      ]
     },
     "metadata": {},
     "output_type": "display_data"
    }
   ],
   "source": [
    "anomalies = tfdv.validate_statistics(\n",
    "    statistics=crime_2020_stats, \n",
    "    schema=crime_2019_schema,\n",
    "    previous_statistics=crime_2019_stats\n",
    ")\n",
    "tfdv.display_anomalies(anomalies)"
   ]
  },
  {
   "cell_type": "markdown",
   "id": "adopted-hamilton",
   "metadata": {},
   "source": [
    "And now, let's add a drift example. TFDV uses [L-infinity norm](https://en.wikipedia.org/wiki/L-infinity) to detect drifts, so we just need to set the maximum treshold we are ready to accept. "
   ]
  },
  {
   "cell_type": "code",
   "execution_count": 141,
   "id": "senior-paraguay",
   "metadata": {},
   "outputs": [],
   "source": [
    "tfdv.get_feature(crime_2019_schema, 'primary_type').drift_comparator.infinity_norm.threshold = 0.01"
   ]
  },
  {
   "cell_type": "code",
   "execution_count": 142,
   "id": "starting-kitchen",
   "metadata": {},
   "outputs": [
    {
     "name": "stderr",
     "output_type": "stream",
     "text": [
      "/Users/matthieu/dev/freeldom/mlops-framework/venv/lib/python3.8/site-packages/tensorflow_data_validation/utils/display_util.py:217: FutureWarning: Passing a negative integer is deprecated in version 1.0 and will not be supported in future version. Instead, use None to not limit the column width.\n",
      "  pd.set_option('max_colwidth', -1)\n"
     ]
    },
    {
     "data": {
      "text/html": [
       "<div>\n",
       "<style scoped>\n",
       "    .dataframe tbody tr th:only-of-type {\n",
       "        vertical-align: middle;\n",
       "    }\n",
       "\n",
       "    .dataframe tbody tr th {\n",
       "        vertical-align: top;\n",
       "    }\n",
       "\n",
       "    .dataframe thead th {\n",
       "        text-align: right;\n",
       "    }\n",
       "</style>\n",
       "<table border=\"1\" class=\"dataframe\">\n",
       "  <thead>\n",
       "    <tr style=\"text-align: right;\">\n",
       "      <th></th>\n",
       "      <th>Anomaly short description</th>\n",
       "      <th>Anomaly long description</th>\n",
       "    </tr>\n",
       "    <tr>\n",
       "      <th>Feature name</th>\n",
       "      <th></th>\n",
       "      <th></th>\n",
       "    </tr>\n",
       "  </thead>\n",
       "  <tbody>\n",
       "    <tr>\n",
       "      <th>'primary_type'</th>\n",
       "      <td>High Linfty distance between current and previous</td>\n",
       "      <td>The Linfty distance between current and previous is 0.0443245 (up to six significant digits), above the threshold 0.01. The feature value with maximum difference is: THEFT</td>\n",
       "    </tr>\n",
       "    <tr>\n",
       "      <th>'location_description'</th>\n",
       "      <td>Column dropped</td>\n",
       "      <td>The feature was present in fewer examples than expected: minimum fraction = 0.995000, actual = 0.994332</td>\n",
       "    </tr>\n",
       "  </tbody>\n",
       "</table>\n",
       "</div>"
      ],
      "text/plain": [
       "                                                Anomaly short description  \\\n",
       "Feature name                                                                \n",
       "'primary_type'          High Linfty distance between current and previous   \n",
       "'location_description'  Column dropped                                      \n",
       "\n",
       "                                                                                                                                                                           Anomaly long description  \n",
       "Feature name                                                                                                                                                                                         \n",
       "'primary_type'          The Linfty distance between current and previous is 0.0443245 (up to six significant digits), above the threshold 0.01. The feature value with maximum difference is: THEFT  \n",
       "'location_description'  The feature was present in fewer examples than expected: minimum fraction = 0.995000, actual = 0.994332                                                                      "
      ]
     },
     "metadata": {},
     "output_type": "display_data"
    }
   ],
   "source": [
    "anomalies = tfdv.validate_statistics(\n",
    "    statistics=crime_2020_stats, \n",
    "    schema=crime_2019_schema,\n",
    "    previous_statistics=crime_2019_stats\n",
    ")\n",
    "tfdv.display_anomalies(anomalies)"
   ]
  },
  {
   "cell_type": "markdown",
   "id": "interpreted-revelation",
   "metadata": {},
   "source": [
    "In this example, we can see there is a drift for the \"THEFT\" type of crime between 2019 and 2020."
   ]
  },
  {
   "cell_type": "markdown",
   "id": "recent-contrast",
   "metadata": {},
   "source": [
    "One last thing about this schema. Let's say we want to predict if an arrest will be made or not. During training phase, we will have this feature \"arrest\", but in production and during inference time, we won't have it. To handle this case, tfdv has a feature to specify some attributes available in some environments but not in all. Let's add this information to our schema."
   ]
  },
  {
   "cell_type": "code",
   "execution_count": 144,
   "id": "organizational-athletics",
   "metadata": {},
   "outputs": [],
   "source": [
    "crime_2019_schema.default_environment.append('TRAINING')\n",
    "crime_2019_schema.default_environment.append('SERVING')\n",
    "tfdv.get_feature(crime_2019_schema, 'arrest').not_in_environment.append('SERVING')"
   ]
  },
  {
   "cell_type": "markdown",
   "id": "functioning-reviewer",
   "metadata": {},
   "source": [
    "When you validate statistics, you can specify the environment as below:"
   ]
  },
  {
   "cell_type": "code",
   "execution_count": 145,
   "id": "constant-nature",
   "metadata": {},
   "outputs": [],
   "source": [
    "anomalies = tfdv.validate_statistics(crime_2020_stats, crime_2019_schema, environment='SERVING')"
   ]
  },
  {
   "cell_type": "markdown",
   "id": "structured-court",
   "metadata": {},
   "source": [
    "## Saving your schema\n",
    "\n",
    "Once you have identified the constraints you want to set, you can save your schema to be able to reuse it later."
   ]
  },
  {
   "cell_type": "code",
   "execution_count": 143,
   "id": "southern-magic",
   "metadata": {},
   "outputs": [],
   "source": [
    "schema_file = 'schema.pbtxt'\n",
    "tfdv.write_schema_text(crime_2019_schema, schema_file)\n"
   ]
  },
  {
   "cell_type": "markdown",
   "id": "urban-geneva",
   "metadata": {},
   "source": [
    "## End of lab\n",
    "\n",
    "In this lab we have seen how to generate statistics from a dataset and easily explore using Facets. We have seen how to generate and update a schema, and then how to apply it to new datasets to detect changes, skew or drift in the data. There are other TFDV features we haven't covered, for example how to slice the data by a specific attribute before extracting the statistics. You can check out the official documentation for more details on this topic.\n",
    "\n",
    "We have used data from 2019 to generate the initial schema, but if your dataset is bigger, you may need to execute this code using a Cloud compute. TFDV has an Apache Beam runtime, so in the next lab, we will see how you could do the same steps using DataFlow."
   ]
  },
  {
   "cell_type": "code",
   "execution_count": null,
   "id": "focused-environment",
   "metadata": {},
   "outputs": [],
   "source": []
  }
 ],
 "metadata": {
  "kernelspec": {
   "display_name": "Python 3",
   "language": "python",
   "name": "python3"
  },
  "language_info": {
   "codemirror_mode": {
    "name": "ipython",
    "version": 3
   },
   "file_extension": ".py",
   "mimetype": "text/x-python",
   "name": "python",
   "nbconvert_exporter": "python",
   "pygments_lexer": "ipython3",
   "version": "3.8.9"
  }
 },
 "nbformat": 4,
 "nbformat_minor": 5
}
