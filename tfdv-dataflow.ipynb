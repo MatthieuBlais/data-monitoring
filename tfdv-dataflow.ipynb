{
 "cells": [
  {
   "cell_type": "markdown",
   "id": "vanilla-question",
   "metadata": {},
   "source": [
    "# TensorFlow Data Validation (TFDV): Scaling with Apache Beam\n",
    "\n",
    "This notebook demonstrates how to use TensorFlow Data Validation (TFDV) with Apache Beam and DataFlow. It reuses the introduction to TFDV made in the previous lab.\n",
    "\n",
    "- Extract data from BigQuery to GCS using DataFlow.\n",
    "- Compute the summary statistics using TFDV and DataFlow.\n",
    "- Explore the computed statistics visually to understand information about the data.\n",
    "- Infer the schema.\n",
    "- Save the updated schema to be used as a contract during inference."
   ]
  },
  {
   "cell_type": "markdown",
   "id": "crude-cherry",
   "metadata": {},
   "source": [
    "### Install dependencies"
   ]
  },
  {
   "cell_type": "code",
   "execution_count": 1,
   "id": "awful-characteristic",
   "metadata": {},
   "outputs": [
    {
     "name": "stdout",
     "output_type": "stream",
     "text": [
      "Requirement already satisfied: tensorflow in /Users/matthieu/dev/freeldom/mlops-framework/venv/lib/python3.8/site-packages (2.4.1)\n",
      "Requirement already satisfied: tensorflow_data_validation in /Users/matthieu/dev/freeldom/mlops-framework/venv/lib/python3.8/site-packages (0.30.0)\n",
      "Requirement already satisfied: google-cloud-bigquery in /Users/matthieu/dev/freeldom/mlops-framework/venv/lib/python3.8/site-packages (1.28.0)\n",
      "Requirement already satisfied: google-resumable-media<2.0dev,>=0.6.0 in /Users/matthieu/dev/freeldom/mlops-framework/venv/lib/python3.8/site-packages (from google-cloud-bigquery) (1.2.0)\n",
      "Requirement already satisfied: google-api-core<2.0dev,>=1.21.0 in /Users/matthieu/dev/freeldom/mlops-framework/venv/lib/python3.8/site-packages (from google-cloud-bigquery) (1.25.0)\n",
      "Requirement already satisfied: google-cloud-core<2.0dev,>=1.4.1 in /Users/matthieu/dev/freeldom/mlops-framework/venv/lib/python3.8/site-packages (from google-cloud-bigquery) (1.5.0)\n",
      "Requirement already satisfied: six<2.0.0dev,>=1.13.0 in /Users/matthieu/dev/freeldom/mlops-framework/venv/lib/python3.8/site-packages (from google-cloud-bigquery) (1.15.0)\n",
      "Requirement already satisfied: pytz in /Users/matthieu/dev/freeldom/mlops-framework/venv/lib/python3.8/site-packages (from google-api-core<2.0dev,>=1.21.0->google-cloud-bigquery) (2020.5)\n",
      "Requirement already satisfied: protobuf>=3.12.0 in /Users/matthieu/dev/freeldom/mlops-framework/venv/lib/python3.8/site-packages (from google-api-core<2.0dev,>=1.21.0->google-cloud-bigquery) (3.14.0)\n",
      "Requirement already satisfied: googleapis-common-protos<2.0dev,>=1.6.0 in /Users/matthieu/dev/freeldom/mlops-framework/venv/lib/python3.8/site-packages (from google-api-core<2.0dev,>=1.21.0->google-cloud-bigquery) (1.52.0)\n",
      "Requirement already satisfied: google-auth<2.0dev,>=1.21.1 in /Users/matthieu/dev/freeldom/mlops-framework/venv/lib/python3.8/site-packages (from google-api-core<2.0dev,>=1.21.0->google-cloud-bigquery) (1.24.0)\n",
      "Requirement already satisfied: requests<3.0.0dev,>=2.18.0 in /Users/matthieu/dev/freeldom/mlops-framework/venv/lib/python3.8/site-packages (from google-api-core<2.0dev,>=1.21.0->google-cloud-bigquery) (2.25.1)\n",
      "Requirement already satisfied: setuptools>=40.3.0 in /Users/matthieu/dev/freeldom/mlops-framework/venv/lib/python3.8/site-packages (from google-api-core<2.0dev,>=1.21.0->google-cloud-bigquery) (51.0.0)\n",
      "Requirement already satisfied: rsa<5,>=3.1.4 in /Users/matthieu/dev/freeldom/mlops-framework/venv/lib/python3.8/site-packages (from google-auth<2.0dev,>=1.21.1->google-api-core<2.0dev,>=1.21.0->google-cloud-bigquery) (4.7)\n",
      "Requirement already satisfied: cachetools<5.0,>=2.0.0 in /Users/matthieu/dev/freeldom/mlops-framework/venv/lib/python3.8/site-packages (from google-auth<2.0dev,>=1.21.1->google-api-core<2.0dev,>=1.21.0->google-cloud-bigquery) (4.2.0)\n",
      "Requirement already satisfied: pyasn1-modules>=0.2.1 in /Users/matthieu/dev/freeldom/mlops-framework/venv/lib/python3.8/site-packages (from google-auth<2.0dev,>=1.21.1->google-api-core<2.0dev,>=1.21.0->google-cloud-bigquery) (0.2.8)\n",
      "Requirement already satisfied: google-crc32c<2.0dev,>=1.0 in /Users/matthieu/dev/freeldom/mlops-framework/venv/lib/python3.8/site-packages (from google-resumable-media<2.0dev,>=0.6.0->google-cloud-bigquery) (1.1.2)\n",
      "Requirement already satisfied: cffi>=1.0.0 in /Users/matthieu/dev/freeldom/mlops-framework/venv/lib/python3.8/site-packages (from google-crc32c<2.0dev,>=1.0->google-resumable-media<2.0dev,>=0.6.0->google-cloud-bigquery) (1.14.4)\n",
      "Requirement already satisfied: pycparser in /Users/matthieu/dev/freeldom/mlops-framework/venv/lib/python3.8/site-packages (from cffi>=1.0.0->google-crc32c<2.0dev,>=1.0->google-resumable-media<2.0dev,>=0.6.0->google-cloud-bigquery) (2.20)\n",
      "Requirement already satisfied: pyasn1<0.5.0,>=0.4.6 in /Users/matthieu/dev/freeldom/mlops-framework/venv/lib/python3.8/site-packages (from pyasn1-modules>=0.2.1->google-auth<2.0dev,>=1.21.1->google-api-core<2.0dev,>=1.21.0->google-cloud-bigquery) (0.4.8)\n",
      "Requirement already satisfied: certifi>=2017.4.17 in /Users/matthieu/dev/freeldom/mlops-framework/venv/lib/python3.8/site-packages (from requests<3.0.0dev,>=2.18.0->google-api-core<2.0dev,>=1.21.0->google-cloud-bigquery) (2020.12.5)\n",
      "Requirement already satisfied: chardet<5,>=3.0.2 in /Users/matthieu/dev/freeldom/mlops-framework/venv/lib/python3.8/site-packages (from requests<3.0.0dev,>=2.18.0->google-api-core<2.0dev,>=1.21.0->google-cloud-bigquery) (4.0.0)\n",
      "Requirement already satisfied: urllib3<1.27,>=1.21.1 in /Users/matthieu/dev/freeldom/mlops-framework/venv/lib/python3.8/site-packages (from requests<3.0.0dev,>=2.18.0->google-api-core<2.0dev,>=1.21.0->google-cloud-bigquery) (1.26.2)\n",
      "Requirement already satisfied: idna<3,>=2.5 in /Users/matthieu/dev/freeldom/mlops-framework/venv/lib/python3.8/site-packages (from requests<3.0.0dev,>=2.18.0->google-api-core<2.0dev,>=1.21.0->google-cloud-bigquery) (2.10)\n",
      "Requirement already satisfied: numpy~=1.19.2 in /Users/matthieu/dev/freeldom/mlops-framework/venv/lib/python3.8/site-packages (from tensorflow) (1.19.5)\n",
      "Requirement already satisfied: wheel~=0.35 in /Users/matthieu/dev/freeldom/mlops-framework/venv/lib/python3.8/site-packages (from tensorflow) (0.36.2)\n",
      "Requirement already satisfied: wrapt~=1.12.1 in /Users/matthieu/dev/freeldom/mlops-framework/venv/lib/python3.8/site-packages (from tensorflow) (1.12.1)\n",
      "Requirement already satisfied: typing-extensions~=3.7.4 in /Users/matthieu/dev/freeldom/mlops-framework/venv/lib/python3.8/site-packages (from tensorflow) (3.7.4.3)\n",
      "Requirement already satisfied: google-pasta~=0.2 in /Users/matthieu/dev/freeldom/mlops-framework/venv/lib/python3.8/site-packages (from tensorflow) (0.2.0)\n",
      "Requirement already satisfied: tensorflow-estimator<2.5.0,>=2.4.0 in /Users/matthieu/dev/freeldom/mlops-framework/venv/lib/python3.8/site-packages (from tensorflow) (2.4.0)\n",
      "Requirement already satisfied: opt-einsum~=3.3.0 in /Users/matthieu/dev/freeldom/mlops-framework/venv/lib/python3.8/site-packages (from tensorflow) (3.3.0)\n",
      "Requirement already satisfied: termcolor~=1.1.0 in /Users/matthieu/dev/freeldom/mlops-framework/venv/lib/python3.8/site-packages (from tensorflow) (1.1.0)\n",
      "Requirement already satisfied: astunparse~=1.6.3 in /Users/matthieu/dev/freeldom/mlops-framework/venv/lib/python3.8/site-packages (from tensorflow) (1.6.3)\n",
      "Requirement already satisfied: tensorboard~=2.4 in /Users/matthieu/dev/freeldom/mlops-framework/venv/lib/python3.8/site-packages (from tensorflow) (2.4.1)\n",
      "Requirement already satisfied: keras-preprocessing~=1.1.2 in /Users/matthieu/dev/freeldom/mlops-framework/venv/lib/python3.8/site-packages (from tensorflow) (1.1.2)\n",
      "Requirement already satisfied: absl-py~=0.10 in /Users/matthieu/dev/freeldom/mlops-framework/venv/lib/python3.8/site-packages (from tensorflow) (0.11.0)\n",
      "Requirement already satisfied: gast==0.3.3 in /Users/matthieu/dev/freeldom/mlops-framework/venv/lib/python3.8/site-packages (from tensorflow) (0.3.3)\n",
      "Requirement already satisfied: h5py~=2.10.0 in /Users/matthieu/dev/freeldom/mlops-framework/venv/lib/python3.8/site-packages (from tensorflow) (2.10.0)\n",
      "Requirement already satisfied: flatbuffers~=1.12.0 in /Users/matthieu/dev/freeldom/mlops-framework/venv/lib/python3.8/site-packages (from tensorflow) (1.12)\n",
      "Requirement already satisfied: grpcio~=1.32.0 in /Users/matthieu/dev/freeldom/mlops-framework/venv/lib/python3.8/site-packages (from tensorflow) (1.32.0)\n",
      "Requirement already satisfied: tensorboard-plugin-wit>=1.6.0 in /Users/matthieu/dev/freeldom/mlops-framework/venv/lib/python3.8/site-packages (from tensorboard~=2.4->tensorflow) (1.8.0)\n",
      "Requirement already satisfied: google-auth-oauthlib<0.5,>=0.4.1 in /Users/matthieu/dev/freeldom/mlops-framework/venv/lib/python3.8/site-packages (from tensorboard~=2.4->tensorflow) (0.4.2)\n",
      "Requirement already satisfied: werkzeug>=0.11.15 in /Users/matthieu/dev/freeldom/mlops-framework/venv/lib/python3.8/site-packages (from tensorboard~=2.4->tensorflow) (1.0.1)\n",
      "Requirement already satisfied: markdown>=2.6.8 in /Users/matthieu/dev/freeldom/mlops-framework/venv/lib/python3.8/site-packages (from tensorboard~=2.4->tensorflow) (3.3.4)\n",
      "Requirement already satisfied: requests-oauthlib>=0.7.0 in /Users/matthieu/dev/freeldom/mlops-framework/venv/lib/python3.8/site-packages (from google-auth-oauthlib<0.5,>=0.4.1->tensorboard~=2.4->tensorflow) (1.3.0)\n",
      "Requirement already satisfied: oauthlib>=3.0.0 in /Users/matthieu/dev/freeldom/mlops-framework/venv/lib/python3.8/site-packages (from requests-oauthlib>=0.7.0->google-auth-oauthlib<0.5,>=0.4.1->tensorboard~=2.4->tensorflow) (3.1.0)\n",
      "Requirement already satisfied: apache-beam[gcp]<3,>=2.28 in /Users/matthieu/dev/freeldom/mlops-framework/venv/lib/python3.8/site-packages (from tensorflow_data_validation) (2.29.0)\n",
      "Requirement already satisfied: pyarrow<3,>=1 in /Users/matthieu/dev/freeldom/mlops-framework/venv/lib/python3.8/site-packages (from tensorflow_data_validation) (2.0.0)\n",
      "Requirement already satisfied: joblib<0.15,>=0.12 in /Users/matthieu/dev/freeldom/mlops-framework/venv/lib/python3.8/site-packages (from tensorflow_data_validation) (0.14.1)\n",
      "Requirement already satisfied: tensorflow-metadata<0.31,>=0.30 in /Users/matthieu/dev/freeldom/mlops-framework/venv/lib/python3.8/site-packages (from tensorflow_data_validation) (0.30.0)\n",
      "Requirement already satisfied: tfx-bsl<0.31,>=0.30 in /Users/matthieu/dev/freeldom/mlops-framework/venv/lib/python3.8/site-packages (from tensorflow_data_validation) (0.30.0)\n",
      "Requirement already satisfied: pandas<2,>=1.0 in /Users/matthieu/dev/freeldom/mlops-framework/venv/lib/python3.8/site-packages (from tensorflow_data_validation) (1.0.3)\n",
      "Requirement already satisfied: oauth2client<5,>=2.0.1 in /Users/matthieu/dev/freeldom/mlops-framework/venv/lib/python3.8/site-packages (from apache-beam[gcp]<3,>=2.28->tensorflow_data_validation) (4.1.3)\n",
      "Requirement already satisfied: crcmod<2.0,>=1.7 in /Users/matthieu/dev/freeldom/mlops-framework/venv/lib/python3.8/site-packages (from apache-beam[gcp]<3,>=2.28->tensorflow_data_validation) (1.7)\n",
      "Requirement already satisfied: hdfs<3.0.0,>=2.1.0 in /Users/matthieu/dev/freeldom/mlops-framework/venv/lib/python3.8/site-packages (from apache-beam[gcp]<3,>=2.28->tensorflow_data_validation) (2.6.0)\n",
      "Requirement already satisfied: fastavro<2,>=0.21.4 in /Users/matthieu/dev/freeldom/mlops-framework/venv/lib/python3.8/site-packages (from apache-beam[gcp]<3,>=2.28->tensorflow_data_validation) (1.4.1)\n",
      "Requirement already satisfied: python-dateutil<3,>=2.8.0 in /Users/matthieu/dev/freeldom/mlops-framework/venv/lib/python3.8/site-packages (from apache-beam[gcp]<3,>=2.28->tensorflow_data_validation) (2.8.1)\n",
      "Requirement already satisfied: dill<0.3.2,>=0.3.1.1 in /Users/matthieu/dev/freeldom/mlops-framework/venv/lib/python3.8/site-packages (from apache-beam[gcp]<3,>=2.28->tensorflow_data_validation) (0.3.1.1)\n",
      "Requirement already satisfied: avro-python3!=1.9.2,<1.10.0,>=1.8.1 in /Users/matthieu/dev/freeldom/mlops-framework/venv/lib/python3.8/site-packages (from apache-beam[gcp]<3,>=2.28->tensorflow_data_validation) (1.9.2.1)\n",
      "Requirement already satisfied: future<1.0.0,>=0.18.2 in /Users/matthieu/dev/freeldom/mlops-framework/venv/lib/python3.8/site-packages (from apache-beam[gcp]<3,>=2.28->tensorflow_data_validation) (0.18.2)\n",
      "Requirement already satisfied: pymongo<4.0.0,>=3.8.0 in /Users/matthieu/dev/freeldom/mlops-framework/venv/lib/python3.8/site-packages (from apache-beam[gcp]<3,>=2.28->tensorflow_data_validation) (3.11.4)\n",
      "Requirement already satisfied: httplib2<0.18.0,>=0.8 in /Users/matthieu/dev/freeldom/mlops-framework/venv/lib/python3.8/site-packages (from apache-beam[gcp]<3,>=2.28->tensorflow_data_validation) (0.17.4)\n",
      "Requirement already satisfied: pydot<2,>=1.2.0 in /Users/matthieu/dev/freeldom/mlops-framework/venv/lib/python3.8/site-packages (from apache-beam[gcp]<3,>=2.28->tensorflow_data_validation) (1.4.2)\n",
      "Requirement already satisfied: google-cloud-dlp<2,>=0.12.0 in /Users/matthieu/dev/freeldom/mlops-framework/venv/lib/python3.8/site-packages (from apache-beam[gcp]<3,>=2.28->tensorflow_data_validation) (1.0.0)\n",
      "Requirement already satisfied: grpcio-gcp<1,>=0.2.2 in /Users/matthieu/dev/freeldom/mlops-framework/venv/lib/python3.8/site-packages (from apache-beam[gcp]<3,>=2.28->tensorflow_data_validation) (0.2.2)\n",
      "Requirement already satisfied: google-cloud-pubsub<2,>=0.39.0 in /Users/matthieu/dev/freeldom/mlops-framework/venv/lib/python3.8/site-packages (from apache-beam[gcp]<3,>=2.28->tensorflow_data_validation) (1.7.0)\n",
      "Requirement already satisfied: google-cloud-bigtable<2,>=0.31.1 in /Users/matthieu/dev/freeldom/mlops-framework/venv/lib/python3.8/site-packages (from apache-beam[gcp]<3,>=2.28->tensorflow_data_validation) (1.7.0)\n",
      "Requirement already satisfied: google-cloud-vision<2,>=0.38.0 in /Users/matthieu/dev/freeldom/mlops-framework/venv/lib/python3.8/site-packages (from apache-beam[gcp]<3,>=2.28->tensorflow_data_validation) (1.0.0)\n",
      "Requirement already satisfied: google-apitools<0.5.32,>=0.5.31 in /Users/matthieu/dev/freeldom/mlops-framework/venv/lib/python3.8/site-packages (from apache-beam[gcp]<3,>=2.28->tensorflow_data_validation) (0.5.31)\n",
      "Requirement already satisfied: google-cloud-spanner<2,>=1.13.0 in /Users/matthieu/dev/freeldom/mlops-framework/venv/lib/python3.8/site-packages (from apache-beam[gcp]<3,>=2.28->tensorflow_data_validation) (1.19.1)\n",
      "Requirement already satisfied: google-cloud-datastore<2,>=1.7.1 in /Users/matthieu/dev/freeldom/mlops-framework/venv/lib/python3.8/site-packages (from apache-beam[gcp]<3,>=2.28->tensorflow_data_validation) (1.15.3)\n",
      "Requirement already satisfied: google-cloud-language<2,>=1.3.0 in /Users/matthieu/dev/freeldom/mlops-framework/venv/lib/python3.8/site-packages (from apache-beam[gcp]<3,>=2.28->tensorflow_data_validation) (1.3.0)\n",
      "Requirement already satisfied: google-cloud-videointelligence<2,>=1.8.0 in /Users/matthieu/dev/freeldom/mlops-framework/venv/lib/python3.8/site-packages (from apache-beam[gcp]<3,>=2.28->tensorflow_data_validation) (1.16.1)\n",
      "Requirement already satisfied: fasteners>=0.14 in /Users/matthieu/dev/freeldom/mlops-framework/venv/lib/python3.8/site-packages (from google-apitools<0.5.32,>=0.5.31->apache-beam[gcp]<3,>=2.28->tensorflow_data_validation) (0.16)\n",
      "Requirement already satisfied: grpc-google-iam-v1<0.13dev,>=0.12.3 in /Users/matthieu/dev/freeldom/mlops-framework/venv/lib/python3.8/site-packages (from google-cloud-bigtable<2,>=0.31.1->apache-beam[gcp]<3,>=2.28->tensorflow_data_validation) (0.12.3)\n",
      "Requirement already satisfied: docopt in /Users/matthieu/dev/freeldom/mlops-framework/venv/lib/python3.8/site-packages (from hdfs<3.0.0,>=2.1.0->apache-beam[gcp]<3,>=2.28->tensorflow_data_validation) (0.6.2)\n",
      "Requirement already satisfied: pyparsing>=2.1.4 in /Users/matthieu/dev/freeldom/mlops-framework/venv/lib/python3.8/site-packages (from pydot<2,>=1.2.0->apache-beam[gcp]<3,>=2.28->tensorflow_data_validation) (2.4.7)\n",
      "Requirement already satisfied: tensorflow-serving-api!=2.0.*,!=2.1.*,!=2.2.*,!=2.3.*,<3,>=1.15 in /Users/matthieu/dev/freeldom/mlops-framework/venv/lib/python3.8/site-packages (from tfx-bsl<0.31,>=0.30->tensorflow_data_validation) (2.4.1)\n",
      "Requirement already satisfied: google-api-python-client<2,>=1.7.11 in /Users/matthieu/dev/freeldom/mlops-framework/venv/lib/python3.8/site-packages (from tfx-bsl<0.31,>=0.30->tensorflow_data_validation) (1.12.8)\n",
      "Requirement already satisfied: google-auth-httplib2>=0.0.3 in /Users/matthieu/dev/freeldom/mlops-framework/venv/lib/python3.8/site-packages (from google-api-python-client<2,>=1.7.11->tfx-bsl<0.31,>=0.30->tensorflow_data_validation) (0.0.4)\n",
      "Requirement already satisfied: uritemplate<4dev,>=3.0.0 in /Users/matthieu/dev/freeldom/mlops-framework/venv/lib/python3.8/site-packages (from google-api-python-client<2,>=1.7.11->tfx-bsl<0.31,>=0.30->tensorflow_data_validation) (3.0.1)\n",
      "\u001b[33mWARNING: You are using pip version 20.3.3; however, version 21.1.2 is available.\n",
      "You should consider upgrading via the '/Users/matthieu/dev/freeldom/mlops-framework/venv/bin/python -m pip install --upgrade pip' command.\u001b[0m\n"
     ]
    }
   ],
   "source": [
    "!pip install tensorflow tensorflow_data_validation google-cloud-bigquery"
   ]
  },
  {
   "cell_type": "markdown",
   "id": "greek-insulin",
   "metadata": {},
   "source": [
    "### Dataset\n",
    "\n",
    "This notebook uses [Chicago crime data](https://data.cityofchicago.org/) data published as a public dataset in BigQuery. This dataset reflects reported incidents of crime (with the exception of murders where data exists for each victim) that occurred in the City of Chicago from 2001 to present, minus the most recent seven days. The data will be extracted with the following columns:\n",
    "\n",
    "- **date**: Date when the incident occurred. this is sometimes a best estimate.\n",
    "- **iucr**: The Illinois Unifrom Crime Reporting code.\n",
    "- **primary_type**: The primary description of the IUCR code.\n",
    "- **location_description**: Description of the location where the incident occurred.\n",
    "- **arrest**: Indicates whether an arrest was made.\n",
    "- **domestic**: Indicates whether the incident was domestic-related as defined by the Illinois Domestic Violence Act.\n",
    "- **district**: Indicates the police district where the incident occurred. \n",
    "- **ward**: The ward (City Council district) where the incident occurred.\n",
    "- **fbi_code**: Indicates the crime classification.\n",
    "- **year**: Year the incident occurred.\n",
    "\n"
   ]
  },
  {
   "cell_type": "markdown",
   "id": "brown-cause",
   "metadata": {},
   "source": [
    "### Imports"
   ]
  },
  {
   "cell_type": "code",
   "execution_count": 90,
   "id": "existing-steel",
   "metadata": {},
   "outputs": [],
   "source": [
    "import tensorflow as tf \n",
    "from google.cloud import bigquery\n",
    "import tensorflow_data_validation as tfdv\n",
    "import pandas as pd\n",
    "from tensorflow.python.lib.io import file_io\n",
    "from google.protobuf import text_format\n",
    "import apache_beam as beam \n",
    "from datetime import datetime\n",
    "\n",
    "GCS_BUCKET = \"freeldom-mlops-deployments\" # Set your GCS bucket\n",
    "PROJECT_ID = 'freeldom' # Set your GCP Project Id\n",
    "REGION = 'asia-southeast1' # Set the region for Dataflow jobs\n",
    "LOCAL = False\n",
    "\n",
    "CHICAGO_CRIME_TABLE = 'bigquery-public-data.chicago_crime.crime'\n"
   ]
  },
  {
   "cell_type": "markdown",
   "id": "latin-puppy",
   "metadata": {},
   "source": [
    "## Extract data from BigQuery"
   ]
  },
  {
   "cell_type": "markdown",
   "id": "early-tragedy",
   "metadata": {},
   "source": [
    "Instead of extracting data from 2019 (260,673 records) to generate the schema, let's extract data between 2015 and 2019 (1,331,957 records). We will use the same SQL query to extract the data. However, this time we will use DataFlow. We will convert the records into TFRecord format as Tensorflow usually performs better on this type of file, but you could also use CSV if you want to."
   ]
  },
  {
   "cell_type": "code",
   "execution_count": 75,
   "id": "limiting-wales",
   "metadata": {},
   "outputs": [],
   "source": [
    "def generate_query(year_from= None, year_to= None, limit= None) -> str:\n",
    "    query = f\"\"\"\n",
    "        SELECT \n",
    "            FORMAT_DATE('%Y',  CAST(date AS DATE)) AS crime_year,\n",
    "            FORMAT_DATE('%b',  CAST(date AS DATE)) AS crime_month,\n",
    "            FORMAT_DATE('%d',  CAST(date AS DATE)) AS crime_day, \n",
    "            FORMAT_DATE('%a',  CAST(date AS DATE)) AS crime_day_of_week, \n",
    "            iucr,\n",
    "            primary_type,\n",
    "            location_description,\n",
    "            CAST(domestic AS INT64) AS domestic,\n",
    "            district,\n",
    "            ward,\n",
    "            fbi_code,\n",
    "            CAST(arrest AS INT64) AS arrest,\n",
    "        FROM \n",
    "          {CHICAGO_CRIME_TABLE}\n",
    "        \"\"\"\n",
    "    if year_from:\n",
    "        query += f\"WHERE year >= {year_from}\"\n",
    "        if year_to:\n",
    "            query += f\" AND year <= {year_to} \\n\"\n",
    "    if limit:\n",
    "        query  += f\"LIMIT {limit}\"\n",
    "        \n",
    "    return query"
   ]
  },
  {
   "cell_type": "markdown",
   "id": "dying-prize",
   "metadata": {},
   "source": [
    "### Dataflow Pipeline\n",
    "\n",
    "To convert to TFRecord, we need a function that returns each row of our dataset into a tf.Example record."
   ]
  },
  {
   "cell_type": "code",
   "execution_count": 95,
   "id": "happy-restaurant",
   "metadata": {},
   "outputs": [],
   "source": [
    "DATA_TYPES = {\n",
    "    'crime_year': 'STRING',\n",
    "    'crime_month': 'STRING',\n",
    "    'crime_day': 'STRING',\n",
    "    'crime_day_of_week': 'STRING',\n",
    "    'iucr': 'STRING',\n",
    "    'primary_type': 'STRING',\n",
    "    'location_description': 'STRING',\n",
    "    'fbi_code': 'STRING',\n",
    "    'domestic': 'INTEGER',\n",
    "    'district': 'INTEGER',\n",
    "    'ward': 'INTEGER',\n",
    "    'arrest': 'INTEGER'\n",
    "}\n",
    "\n",
    "def to_example(row, type_mapping):\n",
    "    features = {}\n",
    "    for name, value in row.items():\n",
    "        datatype = type_mapping[name]\n",
    "        if value is None:\n",
    "            features[name] = tf.train.Feature()\n",
    "        elif datatype == 'INTEGER':\n",
    "            features[name] = tf.train.Feature(int64_list=tf.train.Int64List(value=[value]))\n",
    "        else:\n",
    "            features[name] = tf.train.Feature(bytes_list=tf.train.BytesList(value=[tf.compat.as_bytes(value)]))\n",
    "    return tf.train.Example(features=tf.train.Features(feature=features))\n"
   ]
  },
  {
   "cell_type": "markdown",
   "id": "cardiovascular-copying",
   "metadata": {},
   "source": [
    "Now, let's define our DataFlow pipeline. We have 4 steps as below:"
   ]
  },
  {
   "cell_type": "code",
   "execution_count": 96,
   "id": "floral-jacket",
   "metadata": {},
   "outputs": [],
   "source": [
    "def execute_pipeline(query, output_location, runner, type_mapping, args):\n",
    "    options = beam.options.pipeline_options.GoogleCloudOptions(**args)\n",
    "    \n",
    "    with beam.Pipeline(runner, options=options) as pipeline:\n",
    "        (pipeline \n",
    "             | \"Extract dataset\">> beam.io.Read(beam.io.ReadFromBigQuery(query=query, use_standard_sql=True))\n",
    "             | \"Convert\" >> beam.Map(lambda instance: to_example(instance, type_mapping))\n",
    "             | \"Serialize\" >> beam.Map(lambda example: example.SerializeToString(deterministic=True))\n",
    "             | \"Save as TFRecords\" >> beam.io.WriteToTFRecord(file_path_prefix = output_location, file_name_suffix=\".tfrecords\")\n",
    "        )"
   ]
  },
  {
   "cell_type": "markdown",
   "id": "contained-virginia",
   "metadata": {},
   "source": [
    "Once done, we can start triggering the job. Make sure your API for DataFlow has been enabled. \n",
    "\n",
    "We also define a setup.py to install tfdv on the workers."
   ]
  },
  {
   "cell_type": "code",
   "execution_count": 97,
   "id": "falling-baltimore",
   "metadata": {},
   "outputs": [
    {
     "name": "stdout",
     "output_type": "stream",
     "text": [
      "Overwriting setup.py\n"
     ]
    }
   ],
   "source": [
    "%%writefile setup.py\n",
    "\n",
    "from setuptools import setup\n",
    "\n",
    "setup(\n",
    "    name='tfdv',\n",
    "    install_requires=[\n",
    "      'tensorflow_data_validation'\n",
    "    ]\n",
    ")"
   ]
  },
  {
   "cell_type": "code",
   "execution_count": 101,
   "id": "sweet-norway",
   "metadata": {},
   "outputs": [],
   "source": [
    "job_time = datetime.now().strftime('%Y%m%d-%H%M%S')\n",
    "root_folder = f\"gs://{GCS_BUCKET}/tfdv/{job_name}\" if not LOCAL else '.'"
   ]
  },
  {
   "cell_type": "code",
   "execution_count": 102,
   "id": "opening-cooper",
   "metadata": {},
   "outputs": [],
   "source": [
    "runner = \"DataflowRunner\" if not LOCAL else \"DirectRunner\"\n",
    "job_name = f\"tfdv-chicago-crime-{job_time}\"\n",
    "year_from =  2019\n",
    "year_to = 2019\n",
    "data_folder = root+\"/data/train/\"\n",
    "query = generate_query(year_from, year_to, limit=None if not LOCAL else 10000)\n",
    "args = {\n",
    "    'job_name': job_name,\n",
    "    'runner': runner,\n",
    "    'project': PROJECT_ID,\n",
    "    'region': REGION,\n",
    "    'save_main_session': True,\n",
    "    'staging_location': root_folder+\"/staging/\",\n",
    "    'temp_location': root_folder+\"/temp/\",\n",
    "    'setup_file': './setup.py'\n",
    "}"
   ]
  },
  {
   "cell_type": "markdown",
   "id": "guilty-enhancement",
   "metadata": {},
   "source": [
    "Let's trigger the job. It may take about 15min with 1 worker."
   ]
  },
  {
   "cell_type": "code",
   "execution_count": 103,
   "id": "thrown-parcel",
   "metadata": {},
   "outputs": [
    {
     "name": "stderr",
     "output_type": "stream",
     "text": [
      "WARNING:root:Make sure that locally built Python SDK docker image has Python 3.8 interpreter.\n",
      "WARNING:apache_beam.options.pipeline_options:Discarding unparseable args: ['-f', '/Users/matthieu/Library/Jupyter/runtime/kernel-3de4621e-f798-4040-961c-c508c45e1ee3.json']\n",
      "WARNING:apache_beam.options.pipeline_options:Discarding unparseable args: ['-f', '/Users/matthieu/Library/Jupyter/runtime/kernel-3de4621e-f798-4040-961c-c508c45e1ee3.json']\n"
     ]
    }
   ],
   "source": [
    "execute_pipeline(query, data_folder, runner, DATA_TYPES, args)"
   ]
  },
  {
   "cell_type": "code",
   "execution_count": 105,
   "id": "accomplished-scanning",
   "metadata": {},
   "outputs": [
    {
     "data": {
      "text/plain": [
       "'gs://freeldom-mlops-deployments/tfdv/tfdv-chicago-crime-210526192954/data/train/'"
      ]
     },
     "execution_count": 105,
     "metadata": {},
     "output_type": "execute_result"
    }
   ],
   "source": [
    "data_folder"
   ]
  },
  {
   "cell_type": "markdown",
   "id": "strategic-quarterly",
   "metadata": {},
   "source": [
    "Confirm the data has been correctly extracted."
   ]
  },
  {
   "cell_type": "code",
   "execution_count": 104,
   "id": "sealed-representative",
   "metadata": {},
   "outputs": [
    {
     "name": "stdout",
     "output_type": "stream",
     "text": [
      "gs://freeldom-mlops-deployments/tfdv/tfdv-chicago-crime-210526192954/data/train/-00000-of-00002.tfrecords\n",
      "gs://freeldom-mlops-deployments/tfdv/tfdv-chicago-crime-210526192954/data/train/-00000-of-00003.tfrecords\n",
      "gs://freeldom-mlops-deployments/tfdv/tfdv-chicago-crime-210526192954/data/train/-00001-of-00002.tfrecords\n",
      "gs://freeldom-mlops-deployments/tfdv/tfdv-chicago-crime-210526192954/data/train/-00001-of-00003.tfrecords\n",
      "gs://freeldom-mlops-deployments/tfdv/tfdv-chicago-crime-210526192954/data/train/-00002-of-00003.tfrecords\n"
     ]
    }
   ],
   "source": [
    "!gsutil ls {data_folder}"
   ]
  },
  {
   "cell_type": "markdown",
   "id": "basic-privilege",
   "metadata": {},
   "source": [
    "## Generating statistics"
   ]
  },
  {
   "cell_type": "markdown",
   "id": "brazilian-legend",
   "metadata": {},
   "source": [
    "The next step is to generate the statistics. We also have to use DataFlow for this step. We specify a sample rate to compute the statistics over the sample."
   ]
  },
  {
   "cell_type": "code",
   "execution_count": 66,
   "id": "urban-color",
   "metadata": {},
   "outputs": [
    {
     "name": "stderr",
     "output_type": "stream",
     "text": [
      "WARNING:apache_beam.typehints.typehints:Ignoring send_type hint: <class 'NoneType'>\n",
      "WARNING:apache_beam.typehints.typehints:Ignoring return_type hint: <class 'NoneType'>\n",
      "WARNING:apache_beam.typehints.typehints:Ignoring send_type hint: <class 'NoneType'>\n",
      "WARNING:apache_beam.typehints.typehints:Ignoring return_type hint: <class 'NoneType'>\n",
      "WARNING:apache_beam.typehints.typehints:Ignoring send_type hint: <class 'NoneType'>\n",
      "WARNING:apache_beam.typehints.typehints:Ignoring return_type hint: <class 'NoneType'>\n",
      "WARNING:root:Make sure that locally built Python SDK docker image has Python 3.8 interpreter.\n",
      "WARNING:apache_beam.options.pipeline_options:Discarding unparseable args: ['-f', '/Users/matthieu/Library/Jupyter/runtime/kernel-3de4621e-f798-4040-961c-c508c45e1ee3.json']\n",
      "WARNING:apache_beam.options.pipeline_options:Discarding unparseable args: ['-f', '/Users/matthieu/Library/Jupyter/runtime/kernel-3de4621e-f798-4040-961c-c508c45e1ee3.json']\n"
     ]
    },
    {
     "name": "stdout",
     "output_type": "stream",
     "text": [
      "WARNING:tensorflow:From /Users/matthieu/dev/freeldom/mlops-framework/venv/lib/python3.8/site-packages/tensorflow_data_validation/utils/stats_util.py:247: tf_record_iterator (from tensorflow.python.lib.io.tf_record) is deprecated and will be removed in a future version.\n",
      "Instructions for updating:\n",
      "Use eager execution and: \n",
      "`tf.data.TFRecordDataset(path)`\n"
     ]
    },
    {
     "name": "stderr",
     "output_type": "stream",
     "text": [
      "WARNING:tensorflow:From /Users/matthieu/dev/freeldom/mlops-framework/venv/lib/python3.8/site-packages/tensorflow_data_validation/utils/stats_util.py:247: tf_record_iterator (from tensorflow.python.lib.io.tf_record) is deprecated and will be removed in a future version.\n",
      "Instructions for updating:\n",
      "Use eager execution and: \n",
      "`tf.data.TFRecordDataset(path)`\n"
     ]
    }
   ],
   "source": [
    "job_name = f\"tfdv-chicago-crime-stats-{job_time}\"\n",
    "args['job_name'] = job_name\n",
    "stats_location = root_folder + \"/stats/stats.pb\"\n",
    "options =  beam.options.pipeline_options.GoogleCloudOptions(**args)\n",
    "\n",
    "_ = tfdv.generate_statistics_from_tfrecord(\n",
    "    data_location=data_folder, \n",
    "    output_path=stats_location,\n",
    "    stats_options=tfdv.StatsOptions(\n",
    "        sample_rate=.3\n",
    "    ),\n",
    "    pipeline_options = options\n",
    ")"
   ]
  },
  {
   "cell_type": "markdown",
   "id": "reserved-shanghai",
   "metadata": {},
   "source": [
    "Confirm the statistics have been correctly computed."
   ]
  },
  {
   "cell_type": "code",
   "execution_count": 81,
   "id": "latin-comparative",
   "metadata": {},
   "outputs": [
    {
     "name": "stdout",
     "output_type": "stream",
     "text": [
      "gs://freeldom-mlops-deployments/tfdv/tfdv-chicago-crime-210526195416/stats/\n"
     ]
    }
   ],
   "source": [
    "!gsutil ls {stats_location}"
   ]
  },
  {
   "cell_type": "markdown",
   "id": "instant-brooklyn",
   "metadata": {},
   "source": [
    "## Load statistics"
   ]
  },
  {
   "cell_type": "markdown",
   "id": "oriental-customer",
   "metadata": {},
   "source": [
    "From there, the remaining steps are the same as the previous notebook. We can read the statistics directly from GCS and visualize them."
   ]
  },
  {
   "cell_type": "code",
   "execution_count": 82,
   "id": "limiting-basics",
   "metadata": {},
   "outputs": [
    {
     "data": {
      "text/html": [
       "<iframe id='facets-iframe' width=\"100%\" height=\"500px\"></iframe>\n",
       "        <script>\n",
       "        facets_iframe = document.getElementById('facets-iframe');\n",
       "        facets_html = '<script src=\"https://cdnjs.cloudflare.com/ajax/libs/webcomponentsjs/1.3.3/webcomponents-lite.js\"><\\/script><link rel=\"import\" href=\"https://raw.githubusercontent.com/PAIR-code/facets/master/facets-dist/facets-jupyter.html\"><facets-overview proto-input=\"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\"></facets-overview>';\n",
       "        facets_iframe.srcdoc = facets_html;\n",
       "         facets_iframe.id = \"\";\n",
       "         setTimeout(() => {\n",
       "           facets_iframe.setAttribute('height', facets_iframe.contentWindow.document.body.offsetHeight + 'px')\n",
       "         }, 1500)\n",
       "         </script>"
      ],
      "text/plain": [
       "<IPython.core.display.HTML object>"
      ]
     },
     "metadata": {},
     "output_type": "display_data"
    }
   ],
   "source": [
    "stats = tfdv.load_statistics(stats_location)\n",
    "tfdv.visualize_statistics(stats)"
   ]
  },
  {
   "cell_type": "markdown",
   "id": "fewer-administration",
   "metadata": {},
   "source": [
    "## Infer schema"
   ]
  },
  {
   "cell_type": "markdown",
   "id": "wanted-fundamental",
   "metadata": {},
   "source": [
    "Let's infer the schema now. Remember that you should always review the schema before using it."
   ]
  },
  {
   "cell_type": "code",
   "execution_count": 70,
   "id": "distributed-forty",
   "metadata": {},
   "outputs": [
    {
     "data": {
      "text/html": [
       "<div>\n",
       "<style scoped>\n",
       "    .dataframe tbody tr th:only-of-type {\n",
       "        vertical-align: middle;\n",
       "    }\n",
       "\n",
       "    .dataframe tbody tr th {\n",
       "        vertical-align: top;\n",
       "    }\n",
       "\n",
       "    .dataframe thead th {\n",
       "        text-align: right;\n",
       "    }\n",
       "</style>\n",
       "<table border=\"1\" class=\"dataframe\">\n",
       "  <thead>\n",
       "    <tr style=\"text-align: right;\">\n",
       "      <th></th>\n",
       "      <th>Type</th>\n",
       "      <th>Presence</th>\n",
       "      <th>Valency</th>\n",
       "      <th>Domain</th>\n",
       "    </tr>\n",
       "    <tr>\n",
       "      <th>Feature name</th>\n",
       "      <th></th>\n",
       "      <th></th>\n",
       "      <th></th>\n",
       "      <th></th>\n",
       "    </tr>\n",
       "  </thead>\n",
       "  <tbody>\n",
       "    <tr>\n",
       "      <th>'crime_year'</th>\n",
       "      <td>BYTES</td>\n",
       "      <td>required</td>\n",
       "      <td></td>\n",
       "      <td>-</td>\n",
       "    </tr>\n",
       "    <tr>\n",
       "      <th>'crime_day_of_week'</th>\n",
       "      <td>STRING</td>\n",
       "      <td>required</td>\n",
       "      <td></td>\n",
       "      <td>'crime_day_of_week'</td>\n",
       "    </tr>\n",
       "    <tr>\n",
       "      <th>'crime_month'</th>\n",
       "      <td>STRING</td>\n",
       "      <td>required</td>\n",
       "      <td></td>\n",
       "      <td>'crime_month'</td>\n",
       "    </tr>\n",
       "    <tr>\n",
       "      <th>'arrest'</th>\n",
       "      <td>INT</td>\n",
       "      <td>required</td>\n",
       "      <td></td>\n",
       "      <td>-</td>\n",
       "    </tr>\n",
       "    <tr>\n",
       "      <th>'crime_day'</th>\n",
       "      <td>BYTES</td>\n",
       "      <td>required</td>\n",
       "      <td></td>\n",
       "      <td>-</td>\n",
       "    </tr>\n",
       "    <tr>\n",
       "      <th>'district'</th>\n",
       "      <td>INT</td>\n",
       "      <td>required</td>\n",
       "      <td></td>\n",
       "      <td>-</td>\n",
       "    </tr>\n",
       "    <tr>\n",
       "      <th>'domestic'</th>\n",
       "      <td>INT</td>\n",
       "      <td>required</td>\n",
       "      <td></td>\n",
       "      <td>-</td>\n",
       "    </tr>\n",
       "    <tr>\n",
       "      <th>'fbi_code'</th>\n",
       "      <td>STRING</td>\n",
       "      <td>required</td>\n",
       "      <td></td>\n",
       "      <td>'fbi_code'</td>\n",
       "    </tr>\n",
       "    <tr>\n",
       "      <th>'iucr'</th>\n",
       "      <td>BYTES</td>\n",
       "      <td>required</td>\n",
       "      <td></td>\n",
       "      <td>-</td>\n",
       "    </tr>\n",
       "    <tr>\n",
       "      <th>'location_description'</th>\n",
       "      <td>BYTES</td>\n",
       "      <td>optional</td>\n",
       "      <td>single</td>\n",
       "      <td>-</td>\n",
       "    </tr>\n",
       "    <tr>\n",
       "      <th>'primary_type'</th>\n",
       "      <td>STRING</td>\n",
       "      <td>required</td>\n",
       "      <td></td>\n",
       "      <td>'primary_type'</td>\n",
       "    </tr>\n",
       "    <tr>\n",
       "      <th>'ward'</th>\n",
       "      <td>INT</td>\n",
       "      <td>optional</td>\n",
       "      <td>single</td>\n",
       "      <td>-</td>\n",
       "    </tr>\n",
       "  </tbody>\n",
       "</table>\n",
       "</div>"
      ],
      "text/plain": [
       "                          Type  Presence Valency               Domain\n",
       "Feature name                                                         \n",
       "'crime_year'             BYTES  required                            -\n",
       "'crime_day_of_week'     STRING  required          'crime_day_of_week'\n",
       "'crime_month'           STRING  required                'crime_month'\n",
       "'arrest'                   INT  required                            -\n",
       "'crime_day'              BYTES  required                            -\n",
       "'district'                 INT  required                            -\n",
       "'domestic'                 INT  required                            -\n",
       "'fbi_code'              STRING  required                   'fbi_code'\n",
       "'iucr'                   BYTES  required                            -\n",
       "'location_description'   BYTES  optional  single                    -\n",
       "'primary_type'          STRING  required               'primary_type'\n",
       "'ward'                     INT  optional  single                    -"
      ]
     },
     "metadata": {},
     "output_type": "display_data"
    },
    {
     "name": "stderr",
     "output_type": "stream",
     "text": [
      "/Users/matthieu/dev/freeldom/mlops-framework/venv/lib/python3.8/site-packages/tensorflow_data_validation/utils/display_util.py:180: FutureWarning: Passing a negative integer is deprecated in version 1.0 and will not be supported in future version. Instead, use None to not limit the column width.\n",
      "  pd.set_option('max_colwidth', -1)\n"
     ]
    },
    {
     "data": {
      "text/html": [
       "<div>\n",
       "<style scoped>\n",
       "    .dataframe tbody tr th:only-of-type {\n",
       "        vertical-align: middle;\n",
       "    }\n",
       "\n",
       "    .dataframe tbody tr th {\n",
       "        vertical-align: top;\n",
       "    }\n",
       "\n",
       "    .dataframe thead th {\n",
       "        text-align: right;\n",
       "    }\n",
       "</style>\n",
       "<table border=\"1\" class=\"dataframe\">\n",
       "  <thead>\n",
       "    <tr style=\"text-align: right;\">\n",
       "      <th></th>\n",
       "      <th>Values</th>\n",
       "    </tr>\n",
       "    <tr>\n",
       "      <th>Domain</th>\n",
       "      <th></th>\n",
       "    </tr>\n",
       "  </thead>\n",
       "  <tbody>\n",
       "    <tr>\n",
       "      <th>'crime_day_of_week'</th>\n",
       "      <td>'Fri', 'Mon', 'Sat', 'Sun', 'Thu', 'Tue', 'Wed'</td>\n",
       "    </tr>\n",
       "    <tr>\n",
       "      <th>'crime_month'</th>\n",
       "      <td>'Apr', 'Aug', 'Dec', 'Feb', 'Jan', 'Jul', 'Jun', 'Mar', 'May', 'Nov', 'Oct', 'Sep'</td>\n",
       "    </tr>\n",
       "    <tr>\n",
       "      <th>'fbi_code'</th>\n",
       "      <td>'01A', '01B', '02', '03', '04A', '04B', '05', '06', '07', '08A', '08B', '09', '10', '11', '12', '13', '14', '15', '16', '17', '18', '19', '20', '22', '24', '26'</td>\n",
       "    </tr>\n",
       "    <tr>\n",
       "      <th>'primary_type'</th>\n",
       "      <td>'ARSON', 'ASSAULT', 'BATTERY', 'BURGLARY', 'CONCEALED CARRY LICENSE VIOLATION', 'CRIM SEXUAL ASSAULT', 'CRIMINAL DAMAGE', 'CRIMINAL SEXUAL ASSAULT', 'CRIMINAL TRESPASS', 'DECEPTIVE PRACTICE', 'GAMBLING', 'HOMICIDE', 'HUMAN TRAFFICKING', 'INTERFERENCE WITH PUBLIC OFFICER', 'INTIMIDATION', 'KIDNAPPING', 'LIQUOR LAW VIOLATION', 'MOTOR VEHICLE THEFT', 'NARCOTICS', 'NON - CRIMINAL', 'NON-CRIMINAL', 'NON-CRIMINAL (SUBJECT SPECIFIED)', 'OBSCENITY', 'OFFENSE INVOLVING CHILDREN', 'OTHER NARCOTIC VIOLATION', 'OTHER OFFENSE', 'PROSTITUTION', 'PUBLIC INDECENCY', 'PUBLIC PEACE VIOLATION', 'ROBBERY', 'SEX OFFENSE', 'STALKING', 'THEFT', 'WEAPONS VIOLATION'</td>\n",
       "    </tr>\n",
       "  </tbody>\n",
       "</table>\n",
       "</div>"
      ],
      "text/plain": [
       "                                                                                                                                                                                                                                                                                                                                                                                                                                                                                                                                                                                                                                                                                        Values\n",
       "Domain                                                                                                                                                                                                                                                                                                                                                                                                                                                                                                                                                                                                                                                                                        \n",
       "'crime_day_of_week'  'Fri', 'Mon', 'Sat', 'Sun', 'Thu', 'Tue', 'Wed'                                                                                                                                                                                                                                                                                                                                                                                                                                                                                                                                                                                                                          \n",
       "'crime_month'        'Apr', 'Aug', 'Dec', 'Feb', 'Jan', 'Jul', 'Jun', 'Mar', 'May', 'Nov', 'Oct', 'Sep'                                                                                                                                                                                                                                                                                                                                                                                                                                                                                                                                                                                       \n",
       "'fbi_code'           '01A', '01B', '02', '03', '04A', '04B', '05', '06', '07', '08A', '08B', '09', '10', '11', '12', '13', '14', '15', '16', '17', '18', '19', '20', '22', '24', '26'                                                                                                                                                                                                                                                                                                                                                                                                                                                                                                         \n",
       "'primary_type'       'ARSON', 'ASSAULT', 'BATTERY', 'BURGLARY', 'CONCEALED CARRY LICENSE VIOLATION', 'CRIM SEXUAL ASSAULT', 'CRIMINAL DAMAGE', 'CRIMINAL SEXUAL ASSAULT', 'CRIMINAL TRESPASS', 'DECEPTIVE PRACTICE', 'GAMBLING', 'HOMICIDE', 'HUMAN TRAFFICKING', 'INTERFERENCE WITH PUBLIC OFFICER', 'INTIMIDATION', 'KIDNAPPING', 'LIQUOR LAW VIOLATION', 'MOTOR VEHICLE THEFT', 'NARCOTICS', 'NON - CRIMINAL', 'NON-CRIMINAL', 'NON-CRIMINAL (SUBJECT SPECIFIED)', 'OBSCENITY', 'OFFENSE INVOLVING CHILDREN', 'OTHER NARCOTIC VIOLATION', 'OTHER OFFENSE', 'PROSTITUTION', 'PUBLIC INDECENCY', 'PUBLIC PEACE VIOLATION', 'ROBBERY', 'SEX OFFENSE', 'STALKING', 'THEFT', 'WEAPONS VIOLATION'"
      ]
     },
     "metadata": {},
     "output_type": "display_data"
    }
   ],
   "source": [
    "schema = tfdv.infer_schema(statistics=stats)\n",
    "tfdv.display_schema(schema)"
   ]
  },
  {
   "cell_type": "markdown",
   "id": "minute-award",
   "metadata": {},
   "source": [
    "## End of lab\n",
    "\n",
    "We are ending the lab here as the next steps are the same as previously. You must try to enhance your schema, and you can try to replicate the steps to extract data from 2020. Remember that you can include TFDV as a step in your ML pipelines. It could be added at the beginning to ensure the raw data has the correct format and after the transformations. You can also use the schema to validate or monitor inference data."
   ]
  },
  {
   "cell_type": "code",
   "execution_count": null,
   "id": "selective-typing",
   "metadata": {},
   "outputs": [],
   "source": []
  }
 ],
 "metadata": {
  "kernelspec": {
   "display_name": "Python 3",
   "language": "python",
   "name": "python3"
  },
  "language_info": {
   "codemirror_mode": {
    "name": "ipython",
    "version": 3
   },
   "file_extension": ".py",
   "mimetype": "text/x-python",
   "name": "python",
   "nbconvert_exporter": "python",
   "pygments_lexer": "ipython3",
   "version": "3.8.9"
  }
 },
 "nbformat": 4,
 "nbformat_minor": 5
}
