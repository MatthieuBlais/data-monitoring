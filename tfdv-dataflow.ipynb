{
 "cells": [
  {
   "cell_type": "markdown",
   "id": "subject-flavor",
   "metadata": {},
   "source": [
    "# TensorFlow Data Validation (TFDV): Scaling with Apache Beam\n",
    "\n",
    "This notebook demonstrates how to use TensorFlow Data Validation (TFDV) with Apache Beam and DataFlow. It reuse the introduction to TFDV made in the previous lab.\n",
    "\n",
    "- Extract data from BigQuery.\n",
    "- Compute the summary statistics.\n",
    "- Explore the computed statistics visually to understand information about the data.\n",
    "- Infer an initial schema.\n",
    "- Validate and Update the schema based on a new dataset from BigQuery.\n",
    "- Save the updated schema to be used as a contract during inference."
   ]
  },
  {
   "cell_type": "markdown",
   "id": "retired-pillow",
   "metadata": {},
   "source": [
    "### Install dependencies"
   ]
  },
  {
   "cell_type": "code",
   "execution_count": 1,
   "id": "incoming-episode",
   "metadata": {},
   "outputs": [
    {
     "name": "stdout",
     "output_type": "stream",
     "text": [
      "Requirement already satisfied: tensorflow in /Users/matthieu/dev/freeldom/mlops-framework/venv/lib/python3.8/site-packages (2.4.1)\n",
      "Requirement already satisfied: tensorflow_data_validation in /Users/matthieu/dev/freeldom/mlops-framework/venv/lib/python3.8/site-packages (0.30.0)\n",
      "Requirement already satisfied: google-cloud-bigquery in /Users/matthieu/dev/freeldom/mlops-framework/venv/lib/python3.8/site-packages (1.28.0)\n",
      "Requirement already satisfied: google-resumable-media<2.0dev,>=0.6.0 in /Users/matthieu/dev/freeldom/mlops-framework/venv/lib/python3.8/site-packages (from google-cloud-bigquery) (1.2.0)\n",
      "Requirement already satisfied: google-api-core<2.0dev,>=1.21.0 in /Users/matthieu/dev/freeldom/mlops-framework/venv/lib/python3.8/site-packages (from google-cloud-bigquery) (1.25.0)\n",
      "Requirement already satisfied: google-cloud-core<2.0dev,>=1.4.1 in /Users/matthieu/dev/freeldom/mlops-framework/venv/lib/python3.8/site-packages (from google-cloud-bigquery) (1.5.0)\n",
      "Requirement already satisfied: six<2.0.0dev,>=1.13.0 in /Users/matthieu/dev/freeldom/mlops-framework/venv/lib/python3.8/site-packages (from google-cloud-bigquery) (1.15.0)\n",
      "Requirement already satisfied: pytz in /Users/matthieu/dev/freeldom/mlops-framework/venv/lib/python3.8/site-packages (from google-api-core<2.0dev,>=1.21.0->google-cloud-bigquery) (2020.5)\n",
      "Requirement already satisfied: protobuf>=3.12.0 in /Users/matthieu/dev/freeldom/mlops-framework/venv/lib/python3.8/site-packages (from google-api-core<2.0dev,>=1.21.0->google-cloud-bigquery) (3.14.0)\n",
      "Requirement already satisfied: googleapis-common-protos<2.0dev,>=1.6.0 in /Users/matthieu/dev/freeldom/mlops-framework/venv/lib/python3.8/site-packages (from google-api-core<2.0dev,>=1.21.0->google-cloud-bigquery) (1.52.0)\n",
      "Requirement already satisfied: google-auth<2.0dev,>=1.21.1 in /Users/matthieu/dev/freeldom/mlops-framework/venv/lib/python3.8/site-packages (from google-api-core<2.0dev,>=1.21.0->google-cloud-bigquery) (1.24.0)\n",
      "Requirement already satisfied: requests<3.0.0dev,>=2.18.0 in /Users/matthieu/dev/freeldom/mlops-framework/venv/lib/python3.8/site-packages (from google-api-core<2.0dev,>=1.21.0->google-cloud-bigquery) (2.25.1)\n",
      "Requirement already satisfied: setuptools>=40.3.0 in /Users/matthieu/dev/freeldom/mlops-framework/venv/lib/python3.8/site-packages (from google-api-core<2.0dev,>=1.21.0->google-cloud-bigquery) (51.0.0)\n",
      "Requirement already satisfied: rsa<5,>=3.1.4 in /Users/matthieu/dev/freeldom/mlops-framework/venv/lib/python3.8/site-packages (from google-auth<2.0dev,>=1.21.1->google-api-core<2.0dev,>=1.21.0->google-cloud-bigquery) (4.7)\n",
      "Requirement already satisfied: cachetools<5.0,>=2.0.0 in /Users/matthieu/dev/freeldom/mlops-framework/venv/lib/python3.8/site-packages (from google-auth<2.0dev,>=1.21.1->google-api-core<2.0dev,>=1.21.0->google-cloud-bigquery) (4.2.0)\n",
      "Requirement already satisfied: pyasn1-modules>=0.2.1 in /Users/matthieu/dev/freeldom/mlops-framework/venv/lib/python3.8/site-packages (from google-auth<2.0dev,>=1.21.1->google-api-core<2.0dev,>=1.21.0->google-cloud-bigquery) (0.2.8)\n",
      "Requirement already satisfied: google-crc32c<2.0dev,>=1.0 in /Users/matthieu/dev/freeldom/mlops-framework/venv/lib/python3.8/site-packages (from google-resumable-media<2.0dev,>=0.6.0->google-cloud-bigquery) (1.1.2)\n",
      "Requirement already satisfied: cffi>=1.0.0 in /Users/matthieu/dev/freeldom/mlops-framework/venv/lib/python3.8/site-packages (from google-crc32c<2.0dev,>=1.0->google-resumable-media<2.0dev,>=0.6.0->google-cloud-bigquery) (1.14.4)\n",
      "Requirement already satisfied: pycparser in /Users/matthieu/dev/freeldom/mlops-framework/venv/lib/python3.8/site-packages (from cffi>=1.0.0->google-crc32c<2.0dev,>=1.0->google-resumable-media<2.0dev,>=0.6.0->google-cloud-bigquery) (2.20)\n",
      "Requirement already satisfied: pyasn1<0.5.0,>=0.4.6 in /Users/matthieu/dev/freeldom/mlops-framework/venv/lib/python3.8/site-packages (from pyasn1-modules>=0.2.1->google-auth<2.0dev,>=1.21.1->google-api-core<2.0dev,>=1.21.0->google-cloud-bigquery) (0.4.8)\n",
      "Requirement already satisfied: certifi>=2017.4.17 in /Users/matthieu/dev/freeldom/mlops-framework/venv/lib/python3.8/site-packages (from requests<3.0.0dev,>=2.18.0->google-api-core<2.0dev,>=1.21.0->google-cloud-bigquery) (2020.12.5)\n",
      "Requirement already satisfied: chardet<5,>=3.0.2 in /Users/matthieu/dev/freeldom/mlops-framework/venv/lib/python3.8/site-packages (from requests<3.0.0dev,>=2.18.0->google-api-core<2.0dev,>=1.21.0->google-cloud-bigquery) (4.0.0)\n",
      "Requirement already satisfied: urllib3<1.27,>=1.21.1 in /Users/matthieu/dev/freeldom/mlops-framework/venv/lib/python3.8/site-packages (from requests<3.0.0dev,>=2.18.0->google-api-core<2.0dev,>=1.21.0->google-cloud-bigquery) (1.26.2)\n",
      "Requirement already satisfied: idna<3,>=2.5 in /Users/matthieu/dev/freeldom/mlops-framework/venv/lib/python3.8/site-packages (from requests<3.0.0dev,>=2.18.0->google-api-core<2.0dev,>=1.21.0->google-cloud-bigquery) (2.10)\n",
      "Requirement already satisfied: numpy~=1.19.2 in /Users/matthieu/dev/freeldom/mlops-framework/venv/lib/python3.8/site-packages (from tensorflow) (1.19.5)\n",
      "Requirement already satisfied: wheel~=0.35 in /Users/matthieu/dev/freeldom/mlops-framework/venv/lib/python3.8/site-packages (from tensorflow) (0.36.2)\n",
      "Requirement already satisfied: wrapt~=1.12.1 in /Users/matthieu/dev/freeldom/mlops-framework/venv/lib/python3.8/site-packages (from tensorflow) (1.12.1)\n",
      "Requirement already satisfied: typing-extensions~=3.7.4 in /Users/matthieu/dev/freeldom/mlops-framework/venv/lib/python3.8/site-packages (from tensorflow) (3.7.4.3)\n",
      "Requirement already satisfied: google-pasta~=0.2 in /Users/matthieu/dev/freeldom/mlops-framework/venv/lib/python3.8/site-packages (from tensorflow) (0.2.0)\n",
      "Requirement already satisfied: tensorflow-estimator<2.5.0,>=2.4.0 in /Users/matthieu/dev/freeldom/mlops-framework/venv/lib/python3.8/site-packages (from tensorflow) (2.4.0)\n",
      "Requirement already satisfied: opt-einsum~=3.3.0 in /Users/matthieu/dev/freeldom/mlops-framework/venv/lib/python3.8/site-packages (from tensorflow) (3.3.0)\n",
      "Requirement already satisfied: termcolor~=1.1.0 in /Users/matthieu/dev/freeldom/mlops-framework/venv/lib/python3.8/site-packages (from tensorflow) (1.1.0)\n",
      "Requirement already satisfied: astunparse~=1.6.3 in /Users/matthieu/dev/freeldom/mlops-framework/venv/lib/python3.8/site-packages (from tensorflow) (1.6.3)\n",
      "Requirement already satisfied: tensorboard~=2.4 in /Users/matthieu/dev/freeldom/mlops-framework/venv/lib/python3.8/site-packages (from tensorflow) (2.4.1)\n",
      "Requirement already satisfied: keras-preprocessing~=1.1.2 in /Users/matthieu/dev/freeldom/mlops-framework/venv/lib/python3.8/site-packages (from tensorflow) (1.1.2)\n",
      "Requirement already satisfied: absl-py~=0.10 in /Users/matthieu/dev/freeldom/mlops-framework/venv/lib/python3.8/site-packages (from tensorflow) (0.11.0)\n",
      "Requirement already satisfied: gast==0.3.3 in /Users/matthieu/dev/freeldom/mlops-framework/venv/lib/python3.8/site-packages (from tensorflow) (0.3.3)\n",
      "Requirement already satisfied: h5py~=2.10.0 in /Users/matthieu/dev/freeldom/mlops-framework/venv/lib/python3.8/site-packages (from tensorflow) (2.10.0)\n",
      "Requirement already satisfied: flatbuffers~=1.12.0 in /Users/matthieu/dev/freeldom/mlops-framework/venv/lib/python3.8/site-packages (from tensorflow) (1.12)\n",
      "Requirement already satisfied: grpcio~=1.32.0 in /Users/matthieu/dev/freeldom/mlops-framework/venv/lib/python3.8/site-packages (from tensorflow) (1.32.0)\n",
      "Requirement already satisfied: tensorboard-plugin-wit>=1.6.0 in /Users/matthieu/dev/freeldom/mlops-framework/venv/lib/python3.8/site-packages (from tensorboard~=2.4->tensorflow) (1.8.0)\n",
      "Requirement already satisfied: google-auth-oauthlib<0.5,>=0.4.1 in /Users/matthieu/dev/freeldom/mlops-framework/venv/lib/python3.8/site-packages (from tensorboard~=2.4->tensorflow) (0.4.2)\n",
      "Requirement already satisfied: werkzeug>=0.11.15 in /Users/matthieu/dev/freeldom/mlops-framework/venv/lib/python3.8/site-packages (from tensorboard~=2.4->tensorflow) (1.0.1)\n",
      "Requirement already satisfied: markdown>=2.6.8 in /Users/matthieu/dev/freeldom/mlops-framework/venv/lib/python3.8/site-packages (from tensorboard~=2.4->tensorflow) (3.3.4)\n",
      "Requirement already satisfied: requests-oauthlib>=0.7.0 in /Users/matthieu/dev/freeldom/mlops-framework/venv/lib/python3.8/site-packages (from google-auth-oauthlib<0.5,>=0.4.1->tensorboard~=2.4->tensorflow) (1.3.0)\n",
      "Requirement already satisfied: oauthlib>=3.0.0 in /Users/matthieu/dev/freeldom/mlops-framework/venv/lib/python3.8/site-packages (from requests-oauthlib>=0.7.0->google-auth-oauthlib<0.5,>=0.4.1->tensorboard~=2.4->tensorflow) (3.1.0)\n",
      "Requirement already satisfied: apache-beam[gcp]<3,>=2.28 in /Users/matthieu/dev/freeldom/mlops-framework/venv/lib/python3.8/site-packages (from tensorflow_data_validation) (2.29.0)\n",
      "Requirement already satisfied: pyarrow<3,>=1 in /Users/matthieu/dev/freeldom/mlops-framework/venv/lib/python3.8/site-packages (from tensorflow_data_validation) (2.0.0)\n",
      "Requirement already satisfied: joblib<0.15,>=0.12 in /Users/matthieu/dev/freeldom/mlops-framework/venv/lib/python3.8/site-packages (from tensorflow_data_validation) (0.14.1)\n",
      "Requirement already satisfied: tensorflow-metadata<0.31,>=0.30 in /Users/matthieu/dev/freeldom/mlops-framework/venv/lib/python3.8/site-packages (from tensorflow_data_validation) (0.30.0)\n",
      "Requirement already satisfied: tfx-bsl<0.31,>=0.30 in /Users/matthieu/dev/freeldom/mlops-framework/venv/lib/python3.8/site-packages (from tensorflow_data_validation) (0.30.0)\n",
      "Requirement already satisfied: pandas<2,>=1.0 in /Users/matthieu/dev/freeldom/mlops-framework/venv/lib/python3.8/site-packages (from tensorflow_data_validation) (1.0.3)\n",
      "Requirement already satisfied: oauth2client<5,>=2.0.1 in /Users/matthieu/dev/freeldom/mlops-framework/venv/lib/python3.8/site-packages (from apache-beam[gcp]<3,>=2.28->tensorflow_data_validation) (4.1.3)\n",
      "Requirement already satisfied: crcmod<2.0,>=1.7 in /Users/matthieu/dev/freeldom/mlops-framework/venv/lib/python3.8/site-packages (from apache-beam[gcp]<3,>=2.28->tensorflow_data_validation) (1.7)\n",
      "Requirement already satisfied: hdfs<3.0.0,>=2.1.0 in /Users/matthieu/dev/freeldom/mlops-framework/venv/lib/python3.8/site-packages (from apache-beam[gcp]<3,>=2.28->tensorflow_data_validation) (2.6.0)\n",
      "Requirement already satisfied: fastavro<2,>=0.21.4 in /Users/matthieu/dev/freeldom/mlops-framework/venv/lib/python3.8/site-packages (from apache-beam[gcp]<3,>=2.28->tensorflow_data_validation) (1.4.1)\n",
      "Requirement already satisfied: python-dateutil<3,>=2.8.0 in /Users/matthieu/dev/freeldom/mlops-framework/venv/lib/python3.8/site-packages (from apache-beam[gcp]<3,>=2.28->tensorflow_data_validation) (2.8.1)\n",
      "Requirement already satisfied: dill<0.3.2,>=0.3.1.1 in /Users/matthieu/dev/freeldom/mlops-framework/venv/lib/python3.8/site-packages (from apache-beam[gcp]<3,>=2.28->tensorflow_data_validation) (0.3.1.1)\n",
      "Requirement already satisfied: avro-python3!=1.9.2,<1.10.0,>=1.8.1 in /Users/matthieu/dev/freeldom/mlops-framework/venv/lib/python3.8/site-packages (from apache-beam[gcp]<3,>=2.28->tensorflow_data_validation) (1.9.2.1)\n",
      "Requirement already satisfied: future<1.0.0,>=0.18.2 in /Users/matthieu/dev/freeldom/mlops-framework/venv/lib/python3.8/site-packages (from apache-beam[gcp]<3,>=2.28->tensorflow_data_validation) (0.18.2)\n",
      "Requirement already satisfied: pymongo<4.0.0,>=3.8.0 in /Users/matthieu/dev/freeldom/mlops-framework/venv/lib/python3.8/site-packages (from apache-beam[gcp]<3,>=2.28->tensorflow_data_validation) (3.11.4)\n",
      "Requirement already satisfied: httplib2<0.18.0,>=0.8 in /Users/matthieu/dev/freeldom/mlops-framework/venv/lib/python3.8/site-packages (from apache-beam[gcp]<3,>=2.28->tensorflow_data_validation) (0.17.4)\n",
      "Requirement already satisfied: pydot<2,>=1.2.0 in /Users/matthieu/dev/freeldom/mlops-framework/venv/lib/python3.8/site-packages (from apache-beam[gcp]<3,>=2.28->tensorflow_data_validation) (1.4.2)\n",
      "Requirement already satisfied: google-cloud-dlp<2,>=0.12.0 in /Users/matthieu/dev/freeldom/mlops-framework/venv/lib/python3.8/site-packages (from apache-beam[gcp]<3,>=2.28->tensorflow_data_validation) (1.0.0)\n",
      "Requirement already satisfied: grpcio-gcp<1,>=0.2.2 in /Users/matthieu/dev/freeldom/mlops-framework/venv/lib/python3.8/site-packages (from apache-beam[gcp]<3,>=2.28->tensorflow_data_validation) (0.2.2)\n",
      "Requirement already satisfied: google-cloud-pubsub<2,>=0.39.0 in /Users/matthieu/dev/freeldom/mlops-framework/venv/lib/python3.8/site-packages (from apache-beam[gcp]<3,>=2.28->tensorflow_data_validation) (1.7.0)\n",
      "Requirement already satisfied: google-cloud-bigtable<2,>=0.31.1 in /Users/matthieu/dev/freeldom/mlops-framework/venv/lib/python3.8/site-packages (from apache-beam[gcp]<3,>=2.28->tensorflow_data_validation) (1.7.0)\n",
      "Requirement already satisfied: google-cloud-vision<2,>=0.38.0 in /Users/matthieu/dev/freeldom/mlops-framework/venv/lib/python3.8/site-packages (from apache-beam[gcp]<3,>=2.28->tensorflow_data_validation) (1.0.0)\n",
      "Requirement already satisfied: google-apitools<0.5.32,>=0.5.31 in /Users/matthieu/dev/freeldom/mlops-framework/venv/lib/python3.8/site-packages (from apache-beam[gcp]<3,>=2.28->tensorflow_data_validation) (0.5.31)\n",
      "Requirement already satisfied: google-cloud-spanner<2,>=1.13.0 in /Users/matthieu/dev/freeldom/mlops-framework/venv/lib/python3.8/site-packages (from apache-beam[gcp]<3,>=2.28->tensorflow_data_validation) (1.19.1)\n",
      "Requirement already satisfied: google-cloud-datastore<2,>=1.7.1 in /Users/matthieu/dev/freeldom/mlops-framework/venv/lib/python3.8/site-packages (from apache-beam[gcp]<3,>=2.28->tensorflow_data_validation) (1.15.3)\n",
      "Requirement already satisfied: google-cloud-language<2,>=1.3.0 in /Users/matthieu/dev/freeldom/mlops-framework/venv/lib/python3.8/site-packages (from apache-beam[gcp]<3,>=2.28->tensorflow_data_validation) (1.3.0)\n",
      "Requirement already satisfied: google-cloud-videointelligence<2,>=1.8.0 in /Users/matthieu/dev/freeldom/mlops-framework/venv/lib/python3.8/site-packages (from apache-beam[gcp]<3,>=2.28->tensorflow_data_validation) (1.16.1)\n",
      "Requirement already satisfied: fasteners>=0.14 in /Users/matthieu/dev/freeldom/mlops-framework/venv/lib/python3.8/site-packages (from google-apitools<0.5.32,>=0.5.31->apache-beam[gcp]<3,>=2.28->tensorflow_data_validation) (0.16)\n",
      "Requirement already satisfied: grpc-google-iam-v1<0.13dev,>=0.12.3 in /Users/matthieu/dev/freeldom/mlops-framework/venv/lib/python3.8/site-packages (from google-cloud-bigtable<2,>=0.31.1->apache-beam[gcp]<3,>=2.28->tensorflow_data_validation) (0.12.3)\n",
      "Requirement already satisfied: docopt in /Users/matthieu/dev/freeldom/mlops-framework/venv/lib/python3.8/site-packages (from hdfs<3.0.0,>=2.1.0->apache-beam[gcp]<3,>=2.28->tensorflow_data_validation) (0.6.2)\n",
      "Requirement already satisfied: pyparsing>=2.1.4 in /Users/matthieu/dev/freeldom/mlops-framework/venv/lib/python3.8/site-packages (from pydot<2,>=1.2.0->apache-beam[gcp]<3,>=2.28->tensorflow_data_validation) (2.4.7)\n",
      "Requirement already satisfied: tensorflow-serving-api!=2.0.*,!=2.1.*,!=2.2.*,!=2.3.*,<3,>=1.15 in /Users/matthieu/dev/freeldom/mlops-framework/venv/lib/python3.8/site-packages (from tfx-bsl<0.31,>=0.30->tensorflow_data_validation) (2.4.1)\n",
      "Requirement already satisfied: google-api-python-client<2,>=1.7.11 in /Users/matthieu/dev/freeldom/mlops-framework/venv/lib/python3.8/site-packages (from tfx-bsl<0.31,>=0.30->tensorflow_data_validation) (1.12.8)\n",
      "Requirement already satisfied: google-auth-httplib2>=0.0.3 in /Users/matthieu/dev/freeldom/mlops-framework/venv/lib/python3.8/site-packages (from google-api-python-client<2,>=1.7.11->tfx-bsl<0.31,>=0.30->tensorflow_data_validation) (0.0.4)\n",
      "Requirement already satisfied: uritemplate<4dev,>=3.0.0 in /Users/matthieu/dev/freeldom/mlops-framework/venv/lib/python3.8/site-packages (from google-api-python-client<2,>=1.7.11->tfx-bsl<0.31,>=0.30->tensorflow_data_validation) (3.0.1)\n",
      "\u001b[33mWARNING: You are using pip version 20.3.3; however, version 21.1.2 is available.\n",
      "You should consider upgrading via the '/Users/matthieu/dev/freeldom/mlops-framework/venv/bin/python -m pip install --upgrade pip' command.\u001b[0m\n"
     ]
    }
   ],
   "source": [
    "!pip install tensorflow tensorflow_data_validation google-cloud-bigquery"
   ]
  },
  {
   "cell_type": "markdown",
   "id": "optimum-dayton",
   "metadata": {},
   "source": [
    "### Dataset\n",
    "\n",
    "This notebook uses [Chicago crime data](https://data.cityofchicago.org/) data published as a public dataset in BigQuery. This dataset reflects reported incidents of crime (with the exception of murders where data exists for each victim) that occurred in the City of Chicago from 2001 to present, minus the most recent seven days. The data will be extracted with the following columns:\n",
    "\n",
    "- **date**: Date when the incident occurred. this is sometimes a best estimate.\n",
    "- **iucr**: The Illinois Unifrom Crime Reporting code.\n",
    "- **primary_type**: The primary description of the IUCR code.\n",
    "- **location_description**: Description of the location where the incident occurred.\n",
    "- **arrest**: Indicates whether an arrest was made.\n",
    "- **domestic**: Indicates whether the incident was domestic-related as defined by the Illinois Domestic Violence Act.\n",
    "- **district**: Indicates the police district where the incident occurred. \n",
    "- **ward**: The ward (City Council district) where the incident occurred.\n",
    "- **fbi_code**: Indicates the crime classification.\n",
    "- **year**: Year the incident occurred.\n",
    "\n"
   ]
  },
  {
   "cell_type": "markdown",
   "id": "incident-express",
   "metadata": {},
   "source": [
    "### Imports"
   ]
  },
  {
   "cell_type": "code",
   "execution_count": 59,
   "id": "western-ballot",
   "metadata": {},
   "outputs": [],
   "source": [
    "import tensorflow as tf \n",
    "from google.cloud import bigquery\n",
    "import tensorflow_data_validation as tfdv\n",
    "import pandas as pd\n",
    "from tensorflow.python.lib.io import file_io\n",
    "from google.protobuf import text_format\n",
    "import apache_beam as beam \n",
    "from datetime import datetime\n",
    "\n",
    "LOCAL = False # Set the runner type local or GCP\n",
    "GCS_BUCKET = \"freeldom-mlops-deployments\" # Set your GCS bucket\n",
    "PROJECT_ID = 'freeldom' # Set your GCP Project Id\n",
    "REGION = 'asia-southeast1' # Set the region for Dataflow jobs\n",
    "\n",
    "\n",
    "CHICAGO_CRIME_TABLE = 'bigquery-public-data.chicago_crime.crime'\n"
   ]
  },
  {
   "cell_type": "markdown",
   "id": "studied-behavior",
   "metadata": {},
   "source": [
    "## Extract data from BigQuery"
   ]
  },
  {
   "cell_type": "markdown",
   "id": "greek-vintage",
   "metadata": {},
   "source": [
    "Instead of extracting data from 2019 (260,673 records) to generate the schema, let's extract data between 2015 and 2019 (1,331,957 records). We will use the same SQL query to extract the data. However, this time we will use DataFlow to extract the data. We will convert the records into TFRecord format as Tensorflow usually performs better on this type of file, but you could also use CSV if you want to."
   ]
  },
  {
   "cell_type": "code",
   "execution_count": 5,
   "id": "south-suffering",
   "metadata": {},
   "outputs": [],
   "source": [
    "def generate_query(year_from: int = None, year_to: int = None, limit: int = None) -> str:\n",
    "    query = f\"\"\"\n",
    "        SELECT \n",
    "            FORMAT_DATE('%Y',  CAST(date AS DATE)) AS crime_year,\n",
    "            FORMAT_DATE('%b',  CAST(date AS DATE)) AS crime_month,\n",
    "            FORMAT_DATE('%d',  CAST(date AS DATE)) AS crime_day, \n",
    "            FORMAT_DATE('%a',  CAST(date AS DATE)) AS crime_day_of_week, \n",
    "            iucr,\n",
    "            primary_type,\n",
    "            location_description,\n",
    "            CAST(domestic AS INT64) AS domestic,\n",
    "            district,\n",
    "            ward,\n",
    "            fbi_code,\n",
    "            CAST(arrest AS INT64) AS arrest,\n",
    "        FROM \n",
    "          {CHICAGO_CRIME_TABLE}\n",
    "        \"\"\"\n",
    "    if year_from:\n",
    "        query += f\"WHERE year >= {year_from}\"\n",
    "        if year_to:\n",
    "            query += f\" AND year <= {year_to} \\n\"\n",
    "    if limit:\n",
    "        query  += f\"LIMIT {limit}\"\n",
    "        \n",
    "    return query"
   ]
  },
  {
   "cell_type": "markdown",
   "id": "widespread-background",
   "metadata": {},
   "source": [
    "### Dataflow Pipeline\n",
    "\n",
    "To convert to TFRecord, we need a function that returns each row of our dataset into a tf.Example record. Then, we define our Apache Beam pipeline."
   ]
  },
  {
   "cell_type": "code",
   "execution_count": 32,
   "id": "dimensional-healthcare",
   "metadata": {},
   "outputs": [
    {
     "name": "stdout",
     "output_type": "stream",
     "text": [
      "Writing setup.py\n"
     ]
    }
   ],
   "source": [
    "%%writefile setup.py\n",
    "\n",
    "from setuptools import setup\n",
    "\n",
    "setup(\n",
    "    name='tfdv',\n",
    "    install_requires=[\n",
    "      'tensorflow_data_validation'\n",
    "    ]\n",
    ")"
   ]
  },
  {
   "cell_type": "code",
   "execution_count": 52,
   "id": "polish-mason",
   "metadata": {},
   "outputs": [],
   "source": [
    "DATA_TYPES = {\n",
    "    'crime_year': 'STRING',\n",
    "    'crime_month': 'STRING',\n",
    "    'crime_day': 'STRING',\n",
    "    'crime_day_of_week': 'STRING',\n",
    "    'iucr': 'STRING',\n",
    "    'primary_type': 'STRING',\n",
    "    'location_description': 'STRING',\n",
    "    'fbi_code': 'STRING',\n",
    "    'domestic': 'INTEGER',\n",
    "    'district': 'INTEGER',\n",
    "    'ward': 'INTEGER',\n",
    "    'arrest': 'INTEGER'\n",
    "}\n",
    "\n",
    "def to_example(row, type_mapping):\n",
    "    features = {}\n",
    "    for name, value in row.items():\n",
    "        datatype = type_mapping[name]\n",
    "        if value is None:\n",
    "            features[name] = tf.train.Feature()\n",
    "        elif datatype == 'INTEGER':\n",
    "            features[name] = tf.train.Feature(int64_list=tf.train.Int64List(value=[value]))\n",
    "        else:\n",
    "            features[name] = tf.train.Feature(bytes_list=tf.train.BytesList(value=[tf.compat.as_bytes(value)]))\n",
    "    return tf.train.Example(features=tf.train.Features(feature=features))\n"
   ]
  },
  {
   "cell_type": "code",
   "execution_count": 53,
   "id": "linear-albany",
   "metadata": {},
   "outputs": [],
   "source": [
    "def execute_pipeline(query, output_location, runner, type_mapping, args):\n",
    "    options = beam.options.pipeline_options.GoogleCloudOptions(**args)\n",
    "    \n",
    "    with beam.Pipeline(runner, options=options) as pipeline:\n",
    "        (pipeline \n",
    "             | \"Extract dataset\">> beam.io.Read(beam.io.ReadFromBigQuery(query=query, use_standard_sql=True))\n",
    "             | \"Convert\" >> beam.Map(lambda instance: to_example(instance, type_mapping))\n",
    "             | \"Serialize\" >> beam.Map(lambda example: example.SerializeToString(deterministic=True))\n",
    "             | \"Save as TFRecords\" >> beam.io.WriteToTFRecord(file_path_prefix = output_location, file_name_suffix=\".tfrecords\")\n",
    "        )"
   ]
  },
  {
   "cell_type": "code",
   "execution_count": 60,
   "id": "contemporary-sport",
   "metadata": {},
   "outputs": [],
   "source": [
    "job_time = datetime.now().strftime('%y%m%d%H%M%S')\n",
    "root_folder = f\"gs://{GCS_BUCKET}/tfdv/{job_name}\" if not LOCAL else '.'"
   ]
  },
  {
   "cell_type": "code",
   "execution_count": 61,
   "id": "false-columbia",
   "metadata": {},
   "outputs": [],
   "source": [
    "runner = \"DataflowRunner\" if not LOCAL else \"DirectRunner\"\n",
    "job_name = f\"tfdv-chicago-crime-{job_time}\"\n",
    "year_from =  2015\n",
    "year_to = 2019\n",
    "data_folder = root+\"/data/\"\n",
    "query = generate_query(year_from, year_to, limit=None if not LOCAL else 10000)\n",
    "args = {\n",
    "    'job_name': job_name,\n",
    "    'runner': runner,\n",
    "    'project': PROJECT_ID,\n",
    "    'region': REGION,\n",
    "    'save_main_session': True,\n",
    "    'staging_location': root_folder+\"/staging/\",\n",
    "    'temp_location': root_folder+\"/temp/\",\n",
    "    'setup_file': './setup.py'\n",
    "}"
   ]
  },
  {
   "cell_type": "code",
   "execution_count": null,
   "id": "adequate-engagement",
   "metadata": {},
   "outputs": [
    {
     "name": "stderr",
     "output_type": "stream",
     "text": [
      "WARNING:root:Make sure that locally built Python SDK docker image has Python 3.8 interpreter.\n",
      "WARNING:apache_beam.options.pipeline_options:Discarding unparseable args: ['-f', '/Users/matthieu/Library/Jupyter/runtime/kernel-3de4621e-f798-4040-961c-c508c45e1ee3.json']\n",
      "WARNING:apache_beam.options.pipeline_options:Discarding unparseable args: ['-f', '/Users/matthieu/Library/Jupyter/runtime/kernel-3de4621e-f798-4040-961c-c508c45e1ee3.json']\n"
     ]
    }
   ],
   "source": [
    "execute_pipeline(query, data_folder, runner, DATA_TYPES, args)"
   ]
  },
  {
   "cell_type": "markdown",
   "id": "divine-salmon",
   "metadata": {},
   "source": [
    "## Generating statistics"
   ]
  },
  {
   "cell_type": "code",
   "execution_count": null,
   "id": "exciting-humanity",
   "metadata": {},
   "outputs": [],
   "source": [
    "job_name = f\"tfdv-chicago-crime-stats-{job_time}\"\n",
    "args['job_name'] = job_name\n",
    "stats_location = root_folder + \"/stats/\"\n",
    "options =  beam.options.pipeline_options.GoogleCloudOptions(**args)\n",
    "\n",
    "_ = tfdv.generate_statistics_from_tfrecord(\n",
    "    data_location=data_folder, \n",
    "    output_path=stats_location,\n",
    "    stats_options=tfdv.StatsOptions(\n",
    "        sample_rate=.3\n",
    "    ),\n",
    "    pipeline_options = options(**args)\n",
    ")"
   ]
  },
  {
   "cell_type": "markdown",
   "id": "visible-drain",
   "metadata": {},
   "source": [
    "## Load statistics"
   ]
  },
  {
   "cell_type": "code",
   "execution_count": null,
   "id": "funded-explosion",
   "metadata": {},
   "outputs": [],
   "source": [
    "stats = tfdv.load_statistics(stats_location)\n",
    "tfdv.visualize_statistics(stats)"
   ]
  }
 ],
 "metadata": {
  "kernelspec": {
   "display_name": "Python 3",
   "language": "python",
   "name": "python3"
  },
  "language_info": {
   "codemirror_mode": {
    "name": "ipython",
    "version": 3
   },
   "file_extension": ".py",
   "mimetype": "text/x-python",
   "name": "python",
   "nbconvert_exporter": "python",
   "pygments_lexer": "ipython3",
   "version": "3.8.9"
  }
 },
 "nbformat": 4,
 "nbformat_minor": 5
}
